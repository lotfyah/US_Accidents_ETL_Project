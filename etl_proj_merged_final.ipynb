{
 "cells": [
  {
   "cell_type": "markdown",
   "metadata": {},
   "source": [
    "# Import dependencies"
   ]
  },
  {
   "cell_type": "code",
   "execution_count": 1,
   "metadata": {},
   "outputs": [],
   "source": [
    "# Dependencies\n",
    "import pandas as pd\n",
    "import numpy as np\n",
    "import requests\n",
    "from census import Census\n",
    "\n",
    "# Census API Key\n",
    "from config import api_key\n",
    "#change year as needed\n",
    "c = Census(api_key, year=2015)\n",
    "\n",
    "# SQLAlchemy\n",
    "from sqlalchemy import create_engine"
   ]
  },
  {
   "cell_type": "markdown",
   "metadata": {},
   "source": [
    "# Kamran - Accidents from 2016-2018"
   ]
  },
  {
   "cell_type": "markdown",
   "metadata": {},
   "source": [
    "# Store CSV into DataFrame"
   ]
  },
  {
   "cell_type": "code",
   "execution_count": 2,
   "metadata": {},
   "outputs": [
    {
     "data": {
      "text/html": [
       "<div>\n",
       "<style scoped>\n",
       "    .dataframe tbody tr th:only-of-type {\n",
       "        vertical-align: middle;\n",
       "    }\n",
       "\n",
       "    .dataframe tbody tr th {\n",
       "        vertical-align: top;\n",
       "    }\n",
       "\n",
       "    .dataframe thead th {\n",
       "        text-align: right;\n",
       "    }\n",
       "</style>\n",
       "<table border=\"1\" class=\"dataframe\">\n",
       "  <thead>\n",
       "    <tr style=\"text-align: right;\">\n",
       "      <th></th>\n",
       "      <th>ID</th>\n",
       "      <th>Source</th>\n",
       "      <th>TMC</th>\n",
       "      <th>Severity</th>\n",
       "      <th>Start_Time</th>\n",
       "      <th>End_Time</th>\n",
       "      <th>Start_Lat</th>\n",
       "      <th>Start_Lng</th>\n",
       "      <th>End_Lat</th>\n",
       "      <th>End_Lng</th>\n",
       "      <th>...</th>\n",
       "      <th>Roundabout</th>\n",
       "      <th>Station</th>\n",
       "      <th>Stop</th>\n",
       "      <th>Traffic_Calming</th>\n",
       "      <th>Traffic_Signal</th>\n",
       "      <th>Turning_Loop</th>\n",
       "      <th>Sunrise_Sunset</th>\n",
       "      <th>Civil_Twilight</th>\n",
       "      <th>Nautical_Twilight</th>\n",
       "      <th>Astronomical_Twilight</th>\n",
       "    </tr>\n",
       "  </thead>\n",
       "  <tbody>\n",
       "    <tr>\n",
       "      <th>0</th>\n",
       "      <td>A-1</td>\n",
       "      <td>MapQuest</td>\n",
       "      <td>201.0</td>\n",
       "      <td>3</td>\n",
       "      <td>2016-02-08 05:46:00</td>\n",
       "      <td>2016-02-08 11:00:00</td>\n",
       "      <td>39.865147</td>\n",
       "      <td>-84.058723</td>\n",
       "      <td>NaN</td>\n",
       "      <td>NaN</td>\n",
       "      <td>...</td>\n",
       "      <td>False</td>\n",
       "      <td>False</td>\n",
       "      <td>False</td>\n",
       "      <td>False</td>\n",
       "      <td>False</td>\n",
       "      <td>False</td>\n",
       "      <td>Night</td>\n",
       "      <td>Night</td>\n",
       "      <td>Night</td>\n",
       "      <td>Night</td>\n",
       "    </tr>\n",
       "    <tr>\n",
       "      <th>1</th>\n",
       "      <td>A-2</td>\n",
       "      <td>MapQuest</td>\n",
       "      <td>201.0</td>\n",
       "      <td>2</td>\n",
       "      <td>2016-02-08 06:07:59</td>\n",
       "      <td>2016-02-08 06:37:59</td>\n",
       "      <td>39.928059</td>\n",
       "      <td>-82.831184</td>\n",
       "      <td>NaN</td>\n",
       "      <td>NaN</td>\n",
       "      <td>...</td>\n",
       "      <td>False</td>\n",
       "      <td>False</td>\n",
       "      <td>False</td>\n",
       "      <td>False</td>\n",
       "      <td>False</td>\n",
       "      <td>False</td>\n",
       "      <td>Night</td>\n",
       "      <td>Night</td>\n",
       "      <td>Night</td>\n",
       "      <td>Day</td>\n",
       "    </tr>\n",
       "    <tr>\n",
       "      <th>2</th>\n",
       "      <td>A-3</td>\n",
       "      <td>MapQuest</td>\n",
       "      <td>201.0</td>\n",
       "      <td>2</td>\n",
       "      <td>2016-02-08 06:49:27</td>\n",
       "      <td>2016-02-08 07:19:27</td>\n",
       "      <td>39.063148</td>\n",
       "      <td>-84.032608</td>\n",
       "      <td>NaN</td>\n",
       "      <td>NaN</td>\n",
       "      <td>...</td>\n",
       "      <td>False</td>\n",
       "      <td>False</td>\n",
       "      <td>False</td>\n",
       "      <td>False</td>\n",
       "      <td>True</td>\n",
       "      <td>False</td>\n",
       "      <td>Night</td>\n",
       "      <td>Night</td>\n",
       "      <td>Day</td>\n",
       "      <td>Day</td>\n",
       "    </tr>\n",
       "    <tr>\n",
       "      <th>3</th>\n",
       "      <td>A-4</td>\n",
       "      <td>MapQuest</td>\n",
       "      <td>201.0</td>\n",
       "      <td>3</td>\n",
       "      <td>2016-02-08 07:23:34</td>\n",
       "      <td>2016-02-08 07:53:34</td>\n",
       "      <td>39.747753</td>\n",
       "      <td>-84.205582</td>\n",
       "      <td>NaN</td>\n",
       "      <td>NaN</td>\n",
       "      <td>...</td>\n",
       "      <td>False</td>\n",
       "      <td>False</td>\n",
       "      <td>False</td>\n",
       "      <td>False</td>\n",
       "      <td>False</td>\n",
       "      <td>False</td>\n",
       "      <td>Night</td>\n",
       "      <td>Day</td>\n",
       "      <td>Day</td>\n",
       "      <td>Day</td>\n",
       "    </tr>\n",
       "    <tr>\n",
       "      <th>4</th>\n",
       "      <td>A-5</td>\n",
       "      <td>MapQuest</td>\n",
       "      <td>201.0</td>\n",
       "      <td>2</td>\n",
       "      <td>2016-02-08 07:39:07</td>\n",
       "      <td>2016-02-08 08:09:07</td>\n",
       "      <td>39.627781</td>\n",
       "      <td>-84.188354</td>\n",
       "      <td>NaN</td>\n",
       "      <td>NaN</td>\n",
       "      <td>...</td>\n",
       "      <td>False</td>\n",
       "      <td>False</td>\n",
       "      <td>False</td>\n",
       "      <td>False</td>\n",
       "      <td>True</td>\n",
       "      <td>False</td>\n",
       "      <td>Day</td>\n",
       "      <td>Day</td>\n",
       "      <td>Day</td>\n",
       "      <td>Day</td>\n",
       "    </tr>\n",
       "  </tbody>\n",
       "</table>\n",
       "<p>5 rows × 49 columns</p>\n",
       "</div>"
      ],
      "text/plain": [
       "    ID    Source    TMC  Severity           Start_Time             End_Time  \\\n",
       "0  A-1  MapQuest  201.0         3  2016-02-08 05:46:00  2016-02-08 11:00:00   \n",
       "1  A-2  MapQuest  201.0         2  2016-02-08 06:07:59  2016-02-08 06:37:59   \n",
       "2  A-3  MapQuest  201.0         2  2016-02-08 06:49:27  2016-02-08 07:19:27   \n",
       "3  A-4  MapQuest  201.0         3  2016-02-08 07:23:34  2016-02-08 07:53:34   \n",
       "4  A-5  MapQuest  201.0         2  2016-02-08 07:39:07  2016-02-08 08:09:07   \n",
       "\n",
       "   Start_Lat  Start_Lng  End_Lat  End_Lng  ...  Roundabout Station   Stop  \\\n",
       "0  39.865147 -84.058723      NaN      NaN  ...       False   False  False   \n",
       "1  39.928059 -82.831184      NaN      NaN  ...       False   False  False   \n",
       "2  39.063148 -84.032608      NaN      NaN  ...       False   False  False   \n",
       "3  39.747753 -84.205582      NaN      NaN  ...       False   False  False   \n",
       "4  39.627781 -84.188354      NaN      NaN  ...       False   False  False   \n",
       "\n",
       "  Traffic_Calming Traffic_Signal Turning_Loop Sunrise_Sunset Civil_Twilight  \\\n",
       "0           False          False        False          Night          Night   \n",
       "1           False          False        False          Night          Night   \n",
       "2           False           True        False          Night          Night   \n",
       "3           False          False        False          Night            Day   \n",
       "4           False           True        False            Day            Day   \n",
       "\n",
       "  Nautical_Twilight Astronomical_Twilight  \n",
       "0             Night                 Night  \n",
       "1             Night                   Day  \n",
       "2               Day                   Day  \n",
       "3               Day                   Day  \n",
       "4               Day                   Day  \n",
       "\n",
       "[5 rows x 49 columns]"
      ]
     },
     "execution_count": 2,
     "metadata": {},
     "output_type": "execute_result"
    }
   ],
   "source": [
    "accident_csv_file = \"Resources/US_Accidents_June20.csv\"\n",
    "accident_data_df = pd.read_csv(accident_csv_file)\n",
    "accident_data_df.head()"
   ]
  },
  {
   "cell_type": "markdown",
   "metadata": {},
   "source": [
    "# state_df"
   ]
  },
  {
   "cell_type": "code",
   "execution_count": 3,
   "metadata": {},
   "outputs": [
    {
     "data": {
      "text/html": [
       "<div>\n",
       "<style scoped>\n",
       "    .dataframe tbody tr th:only-of-type {\n",
       "        vertical-align: middle;\n",
       "    }\n",
       "\n",
       "    .dataframe tbody tr th {\n",
       "        vertical-align: top;\n",
       "    }\n",
       "\n",
       "    .dataframe thead th {\n",
       "        text-align: right;\n",
       "    }\n",
       "</style>\n",
       "<table border=\"1\" class=\"dataframe\">\n",
       "  <thead>\n",
       "    <tr style=\"text-align: right;\">\n",
       "      <th></th>\n",
       "      <th>State</th>\n",
       "      <th>Abbrev</th>\n",
       "      <th>Code</th>\n",
       "    </tr>\n",
       "  </thead>\n",
       "  <tbody>\n",
       "    <tr>\n",
       "      <th>0</th>\n",
       "      <td>Alabama</td>\n",
       "      <td>Ala.</td>\n",
       "      <td>AL</td>\n",
       "    </tr>\n",
       "    <tr>\n",
       "      <th>1</th>\n",
       "      <td>Alaska</td>\n",
       "      <td>Alaska</td>\n",
       "      <td>AK</td>\n",
       "    </tr>\n",
       "    <tr>\n",
       "      <th>2</th>\n",
       "      <td>Arizona</td>\n",
       "      <td>Ariz.</td>\n",
       "      <td>AZ</td>\n",
       "    </tr>\n",
       "    <tr>\n",
       "      <th>3</th>\n",
       "      <td>Arkansas</td>\n",
       "      <td>Ark.</td>\n",
       "      <td>AR</td>\n",
       "    </tr>\n",
       "    <tr>\n",
       "      <th>4</th>\n",
       "      <td>California</td>\n",
       "      <td>Calif.</td>\n",
       "      <td>CA</td>\n",
       "    </tr>\n",
       "  </tbody>\n",
       "</table>\n",
       "</div>"
      ],
      "text/plain": [
       "        State  Abbrev Code\n",
       "0     Alabama    Ala.   AL\n",
       "1      Alaska  Alaska   AK\n",
       "2     Arizona   Ariz.   AZ\n",
       "3    Arkansas    Ark.   AR\n",
       "4  California  Calif.   CA"
      ]
     },
     "execution_count": 3,
     "metadata": {},
     "output_type": "execute_result"
    }
   ],
   "source": [
    "state_csv_file = \"Resources/state_csvData.csv\"\n",
    "state_df = pd.read_csv(state_csv_file)\n",
    "state_df.head()"
   ]
  },
  {
   "cell_type": "code",
   "execution_count": 4,
   "metadata": {},
   "outputs": [
    {
     "data": {
      "text/html": [
       "<div>\n",
       "<style scoped>\n",
       "    .dataframe tbody tr th:only-of-type {\n",
       "        vertical-align: middle;\n",
       "    }\n",
       "\n",
       "    .dataframe tbody tr th {\n",
       "        vertical-align: top;\n",
       "    }\n",
       "\n",
       "    .dataframe thead th {\n",
       "        text-align: right;\n",
       "    }\n",
       "</style>\n",
       "<table border=\"1\" class=\"dataframe\">\n",
       "  <thead>\n",
       "    <tr style=\"text-align: right;\">\n",
       "      <th></th>\n",
       "      <th>state_name</th>\n",
       "      <th>State</th>\n",
       "    </tr>\n",
       "  </thead>\n",
       "  <tbody>\n",
       "    <tr>\n",
       "      <th>0</th>\n",
       "      <td>Alabama</td>\n",
       "      <td>AL</td>\n",
       "    </tr>\n",
       "    <tr>\n",
       "      <th>1</th>\n",
       "      <td>Alaska</td>\n",
       "      <td>AK</td>\n",
       "    </tr>\n",
       "    <tr>\n",
       "      <th>2</th>\n",
       "      <td>Arizona</td>\n",
       "      <td>AZ</td>\n",
       "    </tr>\n",
       "    <tr>\n",
       "      <th>3</th>\n",
       "      <td>Arkansas</td>\n",
       "      <td>AR</td>\n",
       "    </tr>\n",
       "    <tr>\n",
       "      <th>4</th>\n",
       "      <td>California</td>\n",
       "      <td>CA</td>\n",
       "    </tr>\n",
       "  </tbody>\n",
       "</table>\n",
       "</div>"
      ],
      "text/plain": [
       "   state_name State\n",
       "0     Alabama    AL\n",
       "1      Alaska    AK\n",
       "2     Arizona    AZ\n",
       "3    Arkansas    AR\n",
       "4  California    CA"
      ]
     },
     "execution_count": 4,
     "metadata": {},
     "output_type": "execute_result"
    }
   ],
   "source": [
    "# Rename columns to match accident df for future merging\n",
    "state_df = state_df.drop(columns={\"Abbrev\"})\n",
    "state_df = state_df.rename(columns={\"State\": \"state_name\",\n",
    "                                   \"Code\": \"State\"})\n",
    "state_df.head()"
   ]
  },
  {
   "cell_type": "markdown",
   "metadata": {},
   "source": [
    "# accident_df"
   ]
  },
  {
   "cell_type": "code",
   "execution_count": 5,
   "metadata": {},
   "outputs": [
    {
     "data": {
      "text/plain": [
       "ID                       3513617\n",
       "Source                         3\n",
       "TMC                           21\n",
       "Severity                       4\n",
       "Start_Time               3200042\n",
       "End_Time                 3246120\n",
       "Start_Lat                1124695\n",
       "Start_Lng                1113407\n",
       "End_Lat                   375074\n",
       "End_Lng                   383569\n",
       "Distance(mi)               13476\n",
       "Description              1780092\n",
       "Number                     40365\n",
       "Street                    176262\n",
       "Side                           3\n",
       "City                       11895\n",
       "County                      1724\n",
       "State                         49\n",
       "Zipcode                   418780\n",
       "Country                        1\n",
       "Timezone                       4\n",
       "Airport_Code                2001\n",
       "Weather_Timestamp         546086\n",
       "Temperature(F)               831\n",
       "Wind_Chill(F)                974\n",
       "Humidity(%)                  100\n",
       "Pressure(in)                1022\n",
       "Visibility(mi)                85\n",
       "Wind_Direction                24\n",
       "Wind_Speed(mph)              160\n",
       "Precipitation(in)            261\n",
       "Weather_Condition            127\n",
       "Amenity                        2\n",
       "Bump                           2\n",
       "Crossing                       2\n",
       "Give_Way                       2\n",
       "Junction                       2\n",
       "No_Exit                        2\n",
       "Railway                        2\n",
       "Roundabout                     2\n",
       "Station                        2\n",
       "Stop                           2\n",
       "Traffic_Calming                2\n",
       "Traffic_Signal                 2\n",
       "Turning_Loop                   1\n",
       "Sunrise_Sunset                 2\n",
       "Civil_Twilight                 2\n",
       "Nautical_Twilight              2\n",
       "Astronomical_Twilight          2\n",
       "dtype: int64"
      ]
     },
     "execution_count": 5,
     "metadata": {},
     "output_type": "execute_result"
    }
   ],
   "source": [
    "# view data before transformation\n",
    "accident_data_df.nunique()"
   ]
  },
  {
   "cell_type": "code",
   "execution_count": 6,
   "metadata": {},
   "outputs": [
    {
     "name": "stdout",
     "output_type": "stream",
     "text": [
      "<class 'pandas.core.frame.DataFrame'>\n",
      "RangeIndex: 3513617 entries, 0 to 3513616\n",
      "Data columns (total 49 columns):\n",
      " #   Column                 Dtype  \n",
      "---  ------                 -----  \n",
      " 0   ID                     object \n",
      " 1   Source                 object \n",
      " 2   TMC                    float64\n",
      " 3   Severity               int64  \n",
      " 4   Start_Time             object \n",
      " 5   End_Time               object \n",
      " 6   Start_Lat              float64\n",
      " 7   Start_Lng              float64\n",
      " 8   End_Lat                float64\n",
      " 9   End_Lng                float64\n",
      " 10  Distance(mi)           float64\n",
      " 11  Description            object \n",
      " 12  Number                 float64\n",
      " 13  Street                 object \n",
      " 14  Side                   object \n",
      " 15  City                   object \n",
      " 16  County                 object \n",
      " 17  State                  object \n",
      " 18  Zipcode                object \n",
      " 19  Country                object \n",
      " 20  Timezone               object \n",
      " 21  Airport_Code           object \n",
      " 22  Weather_Timestamp      object \n",
      " 23  Temperature(F)         float64\n",
      " 24  Wind_Chill(F)          float64\n",
      " 25  Humidity(%)            float64\n",
      " 26  Pressure(in)           float64\n",
      " 27  Visibility(mi)         float64\n",
      " 28  Wind_Direction         object \n",
      " 29  Wind_Speed(mph)        float64\n",
      " 30  Precipitation(in)      float64\n",
      " 31  Weather_Condition      object \n",
      " 32  Amenity                bool   \n",
      " 33  Bump                   bool   \n",
      " 34  Crossing               bool   \n",
      " 35  Give_Way               bool   \n",
      " 36  Junction               bool   \n",
      " 37  No_Exit                bool   \n",
      " 38  Railway                bool   \n",
      " 39  Roundabout             bool   \n",
      " 40  Station                bool   \n",
      " 41  Stop                   bool   \n",
      " 42  Traffic_Calming        bool   \n",
      " 43  Traffic_Signal         bool   \n",
      " 44  Turning_Loop           bool   \n",
      " 45  Sunrise_Sunset         object \n",
      " 46  Civil_Twilight         object \n",
      " 47  Nautical_Twilight      object \n",
      " 48  Astronomical_Twilight  object \n",
      "dtypes: bool(13), float64(14), int64(1), object(21)\n",
      "memory usage: 1008.6+ MB\n"
     ]
    }
   ],
   "source": [
    "accident_data_df.info()"
   ]
  },
  {
   "cell_type": "markdown",
   "metadata": {},
   "source": [
    "# Create new accident df"
   ]
  },
  {
   "cell_type": "code",
   "execution_count": 7,
   "metadata": {},
   "outputs": [
    {
     "data": {
      "text/html": [
       "<div>\n",
       "<style scoped>\n",
       "    .dataframe tbody tr th:only-of-type {\n",
       "        vertical-align: middle;\n",
       "    }\n",
       "\n",
       "    .dataframe tbody tr th {\n",
       "        vertical-align: top;\n",
       "    }\n",
       "\n",
       "    .dataframe thead th {\n",
       "        text-align: right;\n",
       "    }\n",
       "</style>\n",
       "<table border=\"1\" class=\"dataframe\">\n",
       "  <thead>\n",
       "    <tr style=\"text-align: right;\">\n",
       "      <th></th>\n",
       "      <th>ID</th>\n",
       "      <th>Start_Time</th>\n",
       "      <th>City</th>\n",
       "      <th>County</th>\n",
       "      <th>State</th>\n",
       "      <th>Zipcode</th>\n",
       "      <th>Street</th>\n",
       "      <th>Timezone</th>\n",
       "      <th>Temperature(F)</th>\n",
       "      <th>Visibility(mi)</th>\n",
       "      <th>Weather_Condition</th>\n",
       "    </tr>\n",
       "  </thead>\n",
       "  <tbody>\n",
       "    <tr>\n",
       "      <th>0</th>\n",
       "      <td>A-1</td>\n",
       "      <td>2016-02-08 05:46:00</td>\n",
       "      <td>Dayton</td>\n",
       "      <td>Montgomery</td>\n",
       "      <td>OH</td>\n",
       "      <td>45424</td>\n",
       "      <td>I-70 E</td>\n",
       "      <td>US/Eastern</td>\n",
       "      <td>36.9</td>\n",
       "      <td>10.0</td>\n",
       "      <td>Light Rain</td>\n",
       "    </tr>\n",
       "    <tr>\n",
       "      <th>1</th>\n",
       "      <td>A-2</td>\n",
       "      <td>2016-02-08 06:07:59</td>\n",
       "      <td>Reynoldsburg</td>\n",
       "      <td>Franklin</td>\n",
       "      <td>OH</td>\n",
       "      <td>43068-3402</td>\n",
       "      <td>Brice Rd</td>\n",
       "      <td>US/Eastern</td>\n",
       "      <td>37.9</td>\n",
       "      <td>10.0</td>\n",
       "      <td>Light Rain</td>\n",
       "    </tr>\n",
       "    <tr>\n",
       "      <th>2</th>\n",
       "      <td>A-3</td>\n",
       "      <td>2016-02-08 06:49:27</td>\n",
       "      <td>Williamsburg</td>\n",
       "      <td>Clermont</td>\n",
       "      <td>OH</td>\n",
       "      <td>45176</td>\n",
       "      <td>State Route 32</td>\n",
       "      <td>US/Eastern</td>\n",
       "      <td>36.0</td>\n",
       "      <td>10.0</td>\n",
       "      <td>Overcast</td>\n",
       "    </tr>\n",
       "    <tr>\n",
       "      <th>3</th>\n",
       "      <td>A-4</td>\n",
       "      <td>2016-02-08 07:23:34</td>\n",
       "      <td>Dayton</td>\n",
       "      <td>Montgomery</td>\n",
       "      <td>OH</td>\n",
       "      <td>45417</td>\n",
       "      <td>I-75 S</td>\n",
       "      <td>US/Eastern</td>\n",
       "      <td>35.1</td>\n",
       "      <td>9.0</td>\n",
       "      <td>Mostly Cloudy</td>\n",
       "    </tr>\n",
       "    <tr>\n",
       "      <th>4</th>\n",
       "      <td>A-5</td>\n",
       "      <td>2016-02-08 07:39:07</td>\n",
       "      <td>Dayton</td>\n",
       "      <td>Montgomery</td>\n",
       "      <td>OH</td>\n",
       "      <td>45459</td>\n",
       "      <td>Miamisburg Centerville Rd</td>\n",
       "      <td>US/Eastern</td>\n",
       "      <td>36.0</td>\n",
       "      <td>6.0</td>\n",
       "      <td>Mostly Cloudy</td>\n",
       "    </tr>\n",
       "  </tbody>\n",
       "</table>\n",
       "</div>"
      ],
      "text/plain": [
       "    ID           Start_Time          City      County State     Zipcode  \\\n",
       "0  A-1  2016-02-08 05:46:00        Dayton  Montgomery    OH       45424   \n",
       "1  A-2  2016-02-08 06:07:59  Reynoldsburg    Franklin    OH  43068-3402   \n",
       "2  A-3  2016-02-08 06:49:27  Williamsburg    Clermont    OH       45176   \n",
       "3  A-4  2016-02-08 07:23:34        Dayton  Montgomery    OH       45417   \n",
       "4  A-5  2016-02-08 07:39:07        Dayton  Montgomery    OH       45459   \n",
       "\n",
       "                      Street    Timezone  Temperature(F)  Visibility(mi)  \\\n",
       "0                     I-70 E  US/Eastern            36.9            10.0   \n",
       "1                   Brice Rd  US/Eastern            37.9            10.0   \n",
       "2             State Route 32  US/Eastern            36.0            10.0   \n",
       "3                     I-75 S  US/Eastern            35.1             9.0   \n",
       "4  Miamisburg Centerville Rd  US/Eastern            36.0             6.0   \n",
       "\n",
       "  Weather_Condition  \n",
       "0        Light Rain  \n",
       "1        Light Rain  \n",
       "2          Overcast  \n",
       "3     Mostly Cloudy  \n",
       "4     Mostly Cloudy  "
      ]
     },
     "execution_count": 7,
     "metadata": {},
     "output_type": "execute_result"
    }
   ],
   "source": [
    "new_accident_data_df = accident_data_df[['ID', 'Start_Time', 'City', 'County', 'State', 'Zipcode', 'Street', 'Timezone', 'Temperature(F)', 'Visibility(mi)', 'Weather_Condition']].copy()\n",
    "new_accident_data_df.head()"
   ]
  },
  {
   "cell_type": "code",
   "execution_count": 8,
   "metadata": {},
   "outputs": [],
   "source": [
    "# us_state_abbrev = {\n",
    "#    'Alabama': 'AL',\n",
    "#    'Alaska': 'AK',\n",
    "#    'Arizona': 'AZ',\n",
    "#    'Arkansas': 'AR',\n",
    "#    'California': 'CA',\n",
    "#    'Colorado': 'CO',\n",
    "#    'Connecticut': 'CT',\n",
    "#    'Delaware': 'DE',\n",
    "#    'Florida': 'FL',\n",
    "#    'Georgia': 'GA',\n",
    "#    'Hawaii': 'HI',\n",
    "#    'Idaho': 'ID',\n",
    "#    'Illinois': 'IL',\n",
    "#    'Indiana': 'IN',\n",
    "#    'Iowa': 'IA',\n",
    "#    'Kansas': 'KS',\n",
    "#    'Kentucky': 'KY',\n",
    "#    'Louisiana': 'LA',\n",
    "#    'Maine': 'ME',\n",
    "#    'Maryland': 'MD',\n",
    "#    'Massachusetts': 'MA',\n",
    "#    'Michigan': 'MI',\n",
    "#    'Minnesota': 'MN',\n",
    "#    'Mississippi': 'MS',\n",
    "#    'Missouri': 'MO',\n",
    "#    'Montana': 'MT',\n",
    "#    'Nebraska': 'NE',\n",
    "#    'Nevada': 'NV',\n",
    "#    'New Hampshire': 'NH',\n",
    "#    'New Jersey': 'NJ',\n",
    "#    'New Mexico': 'NM',\n",
    "#    'New York': 'NY',\n",
    "#    'North Carolina': 'NC',\n",
    "#    'North Dakota': 'ND',\n",
    "#    'Ohio': 'OH',\n",
    "#    'Oklahoma': 'OK',\n",
    "#    'Oregon': 'OR',\n",
    "#    'Pennsylvania': 'PA',\n",
    "#    'Rhode Island': 'RI',\n",
    "#    'South Carolina': 'SC',\n",
    "#    'South Dakota': 'SD',\n",
    "#    'Tennessee': 'TN',\n",
    "#    'Texas': 'TX',\n",
    "#    'Utah': 'UT',\n",
    "#    'Vermont': 'VT',\n",
    "#    'Virginia': 'VA',\n",
    "#    'Washington': 'WA',\n",
    "#    'West Virginia': 'WV',\n",
    "#    'Wisconsin': 'WI',\n",
    "#    'Wyoming': 'WY',\n",
    "# }\n",
    "# for key, value in us_state_abbrev.items():\n",
    "#     new_accident_data_df.loc[new_accident_data_df['State']==key,'State'] = value\n",
    "    \n",
    "# new_accident_data_df = new_accident_data_df.append(value, ignore_index=True)\n",
    "# new_accident_data_df.head()"
   ]
  },
  {
   "cell_type": "markdown",
   "metadata": {},
   "source": [
    "# merge state and accident df"
   ]
  },
  {
   "cell_type": "code",
   "execution_count": 9,
   "metadata": {},
   "outputs": [
    {
     "data": {
      "text/html": [
       "<div>\n",
       "<style scoped>\n",
       "    .dataframe tbody tr th:only-of-type {\n",
       "        vertical-align: middle;\n",
       "    }\n",
       "\n",
       "    .dataframe tbody tr th {\n",
       "        vertical-align: top;\n",
       "    }\n",
       "\n",
       "    .dataframe thead th {\n",
       "        text-align: right;\n",
       "    }\n",
       "</style>\n",
       "<table border=\"1\" class=\"dataframe\">\n",
       "  <thead>\n",
       "    <tr style=\"text-align: right;\">\n",
       "      <th></th>\n",
       "      <th>ID</th>\n",
       "      <th>Start_Time</th>\n",
       "      <th>City</th>\n",
       "      <th>County</th>\n",
       "      <th>State</th>\n",
       "      <th>Zipcode</th>\n",
       "      <th>Street</th>\n",
       "      <th>Timezone</th>\n",
       "      <th>Temperature(F)</th>\n",
       "      <th>Visibility(mi)</th>\n",
       "      <th>Weather_Condition</th>\n",
       "      <th>state_name</th>\n",
       "    </tr>\n",
       "  </thead>\n",
       "  <tbody>\n",
       "    <tr>\n",
       "      <th>0</th>\n",
       "      <td>A-1</td>\n",
       "      <td>2016-02-08 05:46:00</td>\n",
       "      <td>Dayton</td>\n",
       "      <td>Montgomery</td>\n",
       "      <td>OH</td>\n",
       "      <td>45424</td>\n",
       "      <td>I-70 E</td>\n",
       "      <td>US/Eastern</td>\n",
       "      <td>36.9</td>\n",
       "      <td>10.0</td>\n",
       "      <td>Light Rain</td>\n",
       "      <td>Ohio</td>\n",
       "    </tr>\n",
       "    <tr>\n",
       "      <th>1</th>\n",
       "      <td>A-2</td>\n",
       "      <td>2016-02-08 06:07:59</td>\n",
       "      <td>Reynoldsburg</td>\n",
       "      <td>Franklin</td>\n",
       "      <td>OH</td>\n",
       "      <td>43068-3402</td>\n",
       "      <td>Brice Rd</td>\n",
       "      <td>US/Eastern</td>\n",
       "      <td>37.9</td>\n",
       "      <td>10.0</td>\n",
       "      <td>Light Rain</td>\n",
       "      <td>Ohio</td>\n",
       "    </tr>\n",
       "    <tr>\n",
       "      <th>2</th>\n",
       "      <td>A-3</td>\n",
       "      <td>2016-02-08 06:49:27</td>\n",
       "      <td>Williamsburg</td>\n",
       "      <td>Clermont</td>\n",
       "      <td>OH</td>\n",
       "      <td>45176</td>\n",
       "      <td>State Route 32</td>\n",
       "      <td>US/Eastern</td>\n",
       "      <td>36.0</td>\n",
       "      <td>10.0</td>\n",
       "      <td>Overcast</td>\n",
       "      <td>Ohio</td>\n",
       "    </tr>\n",
       "    <tr>\n",
       "      <th>3</th>\n",
       "      <td>A-4</td>\n",
       "      <td>2016-02-08 07:23:34</td>\n",
       "      <td>Dayton</td>\n",
       "      <td>Montgomery</td>\n",
       "      <td>OH</td>\n",
       "      <td>45417</td>\n",
       "      <td>I-75 S</td>\n",
       "      <td>US/Eastern</td>\n",
       "      <td>35.1</td>\n",
       "      <td>9.0</td>\n",
       "      <td>Mostly Cloudy</td>\n",
       "      <td>Ohio</td>\n",
       "    </tr>\n",
       "    <tr>\n",
       "      <th>4</th>\n",
       "      <td>A-5</td>\n",
       "      <td>2016-02-08 07:39:07</td>\n",
       "      <td>Dayton</td>\n",
       "      <td>Montgomery</td>\n",
       "      <td>OH</td>\n",
       "      <td>45459</td>\n",
       "      <td>Miamisburg Centerville Rd</td>\n",
       "      <td>US/Eastern</td>\n",
       "      <td>36.0</td>\n",
       "      <td>6.0</td>\n",
       "      <td>Mostly Cloudy</td>\n",
       "      <td>Ohio</td>\n",
       "    </tr>\n",
       "  </tbody>\n",
       "</table>\n",
       "</div>"
      ],
      "text/plain": [
       "    ID           Start_Time          City      County State     Zipcode  \\\n",
       "0  A-1  2016-02-08 05:46:00        Dayton  Montgomery    OH       45424   \n",
       "1  A-2  2016-02-08 06:07:59  Reynoldsburg    Franklin    OH  43068-3402   \n",
       "2  A-3  2016-02-08 06:49:27  Williamsburg    Clermont    OH       45176   \n",
       "3  A-4  2016-02-08 07:23:34        Dayton  Montgomery    OH       45417   \n",
       "4  A-5  2016-02-08 07:39:07        Dayton  Montgomery    OH       45459   \n",
       "\n",
       "                      Street    Timezone  Temperature(F)  Visibility(mi)  \\\n",
       "0                     I-70 E  US/Eastern            36.9            10.0   \n",
       "1                   Brice Rd  US/Eastern            37.9            10.0   \n",
       "2             State Route 32  US/Eastern            36.0            10.0   \n",
       "3                     I-75 S  US/Eastern            35.1             9.0   \n",
       "4  Miamisburg Centerville Rd  US/Eastern            36.0             6.0   \n",
       "\n",
       "  Weather_Condition state_name  \n",
       "0        Light Rain       Ohio  \n",
       "1        Light Rain       Ohio  \n",
       "2          Overcast       Ohio  \n",
       "3     Mostly Cloudy       Ohio  \n",
       "4     Mostly Cloudy       Ohio  "
      ]
     },
     "execution_count": 9,
     "metadata": {},
     "output_type": "execute_result"
    }
   ],
   "source": [
    "# Merge accident_df with state_df to obtain state_name for future merging with population df\n",
    "clean_accident_data_df = pd.merge(new_accident_data_df, state_df, on= \"State\")\n",
    "clean_accident_data_df.head()"
   ]
  },
  {
   "cell_type": "code",
   "execution_count": 10,
   "metadata": {},
   "outputs": [
    {
     "name": "stdout",
     "output_type": "stream",
     "text": [
      "<class 'pandas.core.frame.DataFrame'>\n",
      "Int64Index: 3513617 entries, 0 to 3513616\n",
      "Data columns (total 12 columns):\n",
      " #   Column             Dtype         \n",
      "---  ------             -----         \n",
      " 0   ID                 object        \n",
      " 1   Start_Time         datetime64[ns]\n",
      " 2   City               object        \n",
      " 3   County             object        \n",
      " 4   State              object        \n",
      " 5   Zipcode            object        \n",
      " 6   Street             object        \n",
      " 7   Timezone           object        \n",
      " 8   Temperature(F)     float64       \n",
      " 9   Visibility(mi)     float64       \n",
      " 10  Weather_Condition  object        \n",
      " 11  state_name         object        \n",
      "dtypes: datetime64[ns](1), float64(2), object(9)\n",
      "memory usage: 348.5+ MB\n"
     ]
    }
   ],
   "source": [
    "# convert start_time from object to datetime \n",
    "clean_accident_data_df['Start_Time'] = pd.to_datetime(clean_accident_data_df['Start_Time'])\n",
    "clean_accident_data_df.info()"
   ]
  },
  {
   "cell_type": "code",
   "execution_count": 11,
   "metadata": {},
   "outputs": [
    {
     "data": {
      "text/plain": [
       "ID                   3513617\n",
       "Start_Time           3200042\n",
       "City                   11895\n",
       "County                  1724\n",
       "State                     49\n",
       "Zipcode               418780\n",
       "Street                176262\n",
       "Timezone                   4\n",
       "Temperature(F)           831\n",
       "Visibility(mi)            85\n",
       "Weather_Condition        127\n",
       "state_name                49\n",
       "dtype: int64"
      ]
     },
     "execution_count": 11,
     "metadata": {},
     "output_type": "execute_result"
    }
   ],
   "source": [
    "clean_accident_data_df.nunique()"
   ]
  },
  {
   "cell_type": "code",
   "execution_count": 12,
   "metadata": {},
   "outputs": [
    {
     "data": {
      "text/plain": [
       "ID                   2018197\n",
       "Start_Time           1875832\n",
       "City                   10793\n",
       "County                  1658\n",
       "State                     49\n",
       "Zipcode               265911\n",
       "Street                128158\n",
       "Timezone                   4\n",
       "Temperature(F)           780\n",
       "Visibility(mi)            71\n",
       "Weather_Condition         95\n",
       "state_name                49\n",
       "dtype: int64"
      ]
     },
     "execution_count": 12,
     "metadata": {},
     "output_type": "execute_result"
    }
   ],
   "source": [
    "# Limit data from 2016-2020 to 2016 only\n",
    "clean_accident_data_df = clean_accident_data_df[(clean_accident_data_df['Start_Time']>= \"2016-01-01\") & \n",
    "                                            (clean_accident_data_df['Start_Time']<= \"2018-12-31\")]\n",
    "clean_accident_data_df.nunique()"
   ]
  },
  {
   "cell_type": "code",
   "execution_count": 13,
   "metadata": {},
   "outputs": [
    {
     "data": {
      "text/html": [
       "<div>\n",
       "<style scoped>\n",
       "    .dataframe tbody tr th:only-of-type {\n",
       "        vertical-align: middle;\n",
       "    }\n",
       "\n",
       "    .dataframe tbody tr th {\n",
       "        vertical-align: top;\n",
       "    }\n",
       "\n",
       "    .dataframe thead th {\n",
       "        text-align: right;\n",
       "    }\n",
       "</style>\n",
       "<table border=\"1\" class=\"dataframe\">\n",
       "  <thead>\n",
       "    <tr style=\"text-align: right;\">\n",
       "      <th></th>\n",
       "      <th>ID</th>\n",
       "      <th>Start_Time</th>\n",
       "      <th>City</th>\n",
       "      <th>County</th>\n",
       "      <th>State</th>\n",
       "      <th>Zipcode</th>\n",
       "      <th>Street</th>\n",
       "      <th>Timezone</th>\n",
       "      <th>Temperature(F)</th>\n",
       "      <th>Visibility(mi)</th>\n",
       "      <th>Weather_Condition</th>\n",
       "      <th>state_name</th>\n",
       "    </tr>\n",
       "  </thead>\n",
       "  <tbody>\n",
       "    <tr>\n",
       "      <th>0</th>\n",
       "      <td>A-1</td>\n",
       "      <td>2016-02-08 05:46:00</td>\n",
       "      <td>Dayton</td>\n",
       "      <td>Montgomery</td>\n",
       "      <td>OH</td>\n",
       "      <td>45424</td>\n",
       "      <td>I-70 E</td>\n",
       "      <td>US/Eastern</td>\n",
       "      <td>36.9</td>\n",
       "      <td>10.0</td>\n",
       "      <td>Light Rain</td>\n",
       "      <td>Ohio</td>\n",
       "    </tr>\n",
       "    <tr>\n",
       "      <th>1</th>\n",
       "      <td>A-2</td>\n",
       "      <td>2016-02-08 06:07:59</td>\n",
       "      <td>Reynoldsburg</td>\n",
       "      <td>Franklin</td>\n",
       "      <td>OH</td>\n",
       "      <td>43068-3402</td>\n",
       "      <td>Brice Rd</td>\n",
       "      <td>US/Eastern</td>\n",
       "      <td>37.9</td>\n",
       "      <td>10.0</td>\n",
       "      <td>Light Rain</td>\n",
       "      <td>Ohio</td>\n",
       "    </tr>\n",
       "    <tr>\n",
       "      <th>2</th>\n",
       "      <td>A-3</td>\n",
       "      <td>2016-02-08 06:49:27</td>\n",
       "      <td>Williamsburg</td>\n",
       "      <td>Clermont</td>\n",
       "      <td>OH</td>\n",
       "      <td>45176</td>\n",
       "      <td>State Route 32</td>\n",
       "      <td>US/Eastern</td>\n",
       "      <td>36.0</td>\n",
       "      <td>10.0</td>\n",
       "      <td>Overcast</td>\n",
       "      <td>Ohio</td>\n",
       "    </tr>\n",
       "    <tr>\n",
       "      <th>3</th>\n",
       "      <td>A-4</td>\n",
       "      <td>2016-02-08 07:23:34</td>\n",
       "      <td>Dayton</td>\n",
       "      <td>Montgomery</td>\n",
       "      <td>OH</td>\n",
       "      <td>45417</td>\n",
       "      <td>I-75 S</td>\n",
       "      <td>US/Eastern</td>\n",
       "      <td>35.1</td>\n",
       "      <td>9.0</td>\n",
       "      <td>Mostly Cloudy</td>\n",
       "      <td>Ohio</td>\n",
       "    </tr>\n",
       "    <tr>\n",
       "      <th>4</th>\n",
       "      <td>A-5</td>\n",
       "      <td>2016-02-08 07:39:07</td>\n",
       "      <td>Dayton</td>\n",
       "      <td>Montgomery</td>\n",
       "      <td>OH</td>\n",
       "      <td>45459</td>\n",
       "      <td>Miamisburg Centerville Rd</td>\n",
       "      <td>US/Eastern</td>\n",
       "      <td>36.0</td>\n",
       "      <td>6.0</td>\n",
       "      <td>Mostly Cloudy</td>\n",
       "      <td>Ohio</td>\n",
       "    </tr>\n",
       "  </tbody>\n",
       "</table>\n",
       "</div>"
      ],
      "text/plain": [
       "    ID          Start_Time          City      County State     Zipcode  \\\n",
       "0  A-1 2016-02-08 05:46:00        Dayton  Montgomery    OH       45424   \n",
       "1  A-2 2016-02-08 06:07:59  Reynoldsburg    Franklin    OH  43068-3402   \n",
       "2  A-3 2016-02-08 06:49:27  Williamsburg    Clermont    OH       45176   \n",
       "3  A-4 2016-02-08 07:23:34        Dayton  Montgomery    OH       45417   \n",
       "4  A-5 2016-02-08 07:39:07        Dayton  Montgomery    OH       45459   \n",
       "\n",
       "                      Street    Timezone  Temperature(F)  Visibility(mi)  \\\n",
       "0                     I-70 E  US/Eastern            36.9            10.0   \n",
       "1                   Brice Rd  US/Eastern            37.9            10.0   \n",
       "2             State Route 32  US/Eastern            36.0            10.0   \n",
       "3                     I-75 S  US/Eastern            35.1             9.0   \n",
       "4  Miamisburg Centerville Rd  US/Eastern            36.0             6.0   \n",
       "\n",
       "  Weather_Condition state_name  \n",
       "0        Light Rain       Ohio  \n",
       "1        Light Rain       Ohio  \n",
       "2          Overcast       Ohio  \n",
       "3     Mostly Cloudy       Ohio  \n",
       "4     Mostly Cloudy       Ohio  "
      ]
     },
     "execution_count": 13,
     "metadata": {},
     "output_type": "execute_result"
    }
   ],
   "source": [
    "clean_accident_data_df.head()"
   ]
  },
  {
   "cell_type": "code",
   "execution_count": 14,
   "metadata": {},
   "outputs": [
    {
     "data": {
      "text/html": [
       "<div>\n",
       "<style scoped>\n",
       "    .dataframe tbody tr th:only-of-type {\n",
       "        vertical-align: middle;\n",
       "    }\n",
       "\n",
       "    .dataframe tbody tr th {\n",
       "        vertical-align: top;\n",
       "    }\n",
       "\n",
       "    .dataframe thead th {\n",
       "        text-align: right;\n",
       "    }\n",
       "</style>\n",
       "<table border=\"1\" class=\"dataframe\">\n",
       "  <thead>\n",
       "    <tr style=\"text-align: right;\">\n",
       "      <th></th>\n",
       "      <th>ID</th>\n",
       "      <th>Start_Time</th>\n",
       "      <th>City</th>\n",
       "      <th>County</th>\n",
       "      <th>State</th>\n",
       "      <th>Zipcode</th>\n",
       "      <th>Street</th>\n",
       "      <th>Timezone</th>\n",
       "      <th>Temperature(F)</th>\n",
       "      <th>Visibility(mi)</th>\n",
       "      <th>Weather_Condition</th>\n",
       "      <th>state_name</th>\n",
       "    </tr>\n",
       "  </thead>\n",
       "  <tbody>\n",
       "    <tr>\n",
       "      <th>0</th>\n",
       "      <td>A-1</td>\n",
       "      <td>2016-02-08 05:46:00</td>\n",
       "      <td>Dayton</td>\n",
       "      <td>Montgomery</td>\n",
       "      <td>OH</td>\n",
       "      <td>45424</td>\n",
       "      <td>I-70 E</td>\n",
       "      <td>US/Eastern</td>\n",
       "      <td>36.9</td>\n",
       "      <td>10.0</td>\n",
       "      <td>Light Rain</td>\n",
       "      <td>Ohio</td>\n",
       "    </tr>\n",
       "    <tr>\n",
       "      <th>9</th>\n",
       "      <td>A-10</td>\n",
       "      <td>2016-02-08 08:10:04</td>\n",
       "      <td>Westerville</td>\n",
       "      <td>Franklin</td>\n",
       "      <td>OH</td>\n",
       "      <td>43081</td>\n",
       "      <td>Westerville Rd</td>\n",
       "      <td>US/Eastern</td>\n",
       "      <td>37.4</td>\n",
       "      <td>3.0</td>\n",
       "      <td>Light Rain</td>\n",
       "      <td>Ohio</td>\n",
       "    </tr>\n",
       "    <tr>\n",
       "      <th>99</th>\n",
       "      <td>A-100</td>\n",
       "      <td>2016-02-11 08:13:24</td>\n",
       "      <td>Dayton</td>\n",
       "      <td>Montgomery</td>\n",
       "      <td>OH</td>\n",
       "      <td>45410</td>\n",
       "      <td>US-35 E</td>\n",
       "      <td>US/Eastern</td>\n",
       "      <td>7.5</td>\n",
       "      <td>10.0</td>\n",
       "      <td>Scattered Clouds</td>\n",
       "      <td>Ohio</td>\n",
       "    </tr>\n",
       "    <tr>\n",
       "      <th>68791</th>\n",
       "      <td>A-1000</td>\n",
       "      <td>2016-06-23 10:31:12</td>\n",
       "      <td>El Dorado Hills</td>\n",
       "      <td>El Dorado</td>\n",
       "      <td>CA</td>\n",
       "      <td>95762</td>\n",
       "      <td>Latrobe Rd</td>\n",
       "      <td>US/Pacific</td>\n",
       "      <td>77.0</td>\n",
       "      <td>10.0</td>\n",
       "      <td>Clear</td>\n",
       "      <td>California</td>\n",
       "    </tr>\n",
       "    <tr>\n",
       "      <th>77791</th>\n",
       "      <td>A-10000</td>\n",
       "      <td>2017-01-06 16:22:04</td>\n",
       "      <td>West Sacramento</td>\n",
       "      <td>Yolo</td>\n",
       "      <td>CA</td>\n",
       "      <td>95691</td>\n",
       "      <td>I-80 W</td>\n",
       "      <td>US/Pacific</td>\n",
       "      <td>46.0</td>\n",
       "      <td>10.0</td>\n",
       "      <td>Clear</td>\n",
       "      <td>California</td>\n",
       "    </tr>\n",
       "  </tbody>\n",
       "</table>\n",
       "</div>"
      ],
      "text/plain": [
       "            ID          Start_Time             City      County State Zipcode  \\\n",
       "0          A-1 2016-02-08 05:46:00           Dayton  Montgomery    OH   45424   \n",
       "9         A-10 2016-02-08 08:10:04      Westerville    Franklin    OH   43081   \n",
       "99       A-100 2016-02-11 08:13:24           Dayton  Montgomery    OH   45410   \n",
       "68791   A-1000 2016-06-23 10:31:12  El Dorado Hills   El Dorado    CA   95762   \n",
       "77791  A-10000 2017-01-06 16:22:04  West Sacramento        Yolo    CA   95691   \n",
       "\n",
       "               Street    Timezone  Temperature(F)  Visibility(mi)  \\\n",
       "0              I-70 E  US/Eastern            36.9            10.0   \n",
       "9      Westerville Rd  US/Eastern            37.4             3.0   \n",
       "99            US-35 E  US/Eastern             7.5            10.0   \n",
       "68791      Latrobe Rd  US/Pacific            77.0            10.0   \n",
       "77791          I-80 W  US/Pacific            46.0            10.0   \n",
       "\n",
       "      Weather_Condition  state_name  \n",
       "0            Light Rain        Ohio  \n",
       "9            Light Rain        Ohio  \n",
       "99     Scattered Clouds        Ohio  \n",
       "68791             Clear  California  \n",
       "77791             Clear  California  "
      ]
     },
     "execution_count": 14,
     "metadata": {},
     "output_type": "execute_result"
    }
   ],
   "source": [
    "# !!!!!!!!!!!!!!!!!!!!!!!!!!!!! Didn't set ID as Index, ID is acting weird (ask team members) !!!!!!!!!!!!!!!!!!!!!!!!!!\n",
    "clean_accident_data_df = clean_accident_data_df.sort_values(by='ID')\n",
    "clean_accident_data_df.head()"
   ]
  },
  {
   "cell_type": "markdown",
   "metadata": {},
   "source": [
    "# Check to see if all 2016 data is present"
   ]
  },
  {
   "cell_type": "code",
   "execution_count": 15,
   "metadata": {},
   "outputs": [
    {
     "data": {
      "text/html": [
       "<div>\n",
       "<style scoped>\n",
       "    .dataframe tbody tr th:only-of-type {\n",
       "        vertical-align: middle;\n",
       "    }\n",
       "\n",
       "    .dataframe tbody tr th {\n",
       "        vertical-align: top;\n",
       "    }\n",
       "\n",
       "    .dataframe thead th {\n",
       "        text-align: right;\n",
       "    }\n",
       "</style>\n",
       "<table border=\"1\" class=\"dataframe\">\n",
       "  <thead>\n",
       "    <tr style=\"text-align: right;\">\n",
       "      <th></th>\n",
       "      <th>ID</th>\n",
       "      <th>Start_Time</th>\n",
       "      <th>City</th>\n",
       "      <th>County</th>\n",
       "      <th>State</th>\n",
       "      <th>Zipcode</th>\n",
       "      <th>Street</th>\n",
       "      <th>Timezone</th>\n",
       "      <th>Temperature(F)</th>\n",
       "      <th>Visibility(mi)</th>\n",
       "      <th>Weather_Condition</th>\n",
       "      <th>state_name</th>\n",
       "    </tr>\n",
       "  </thead>\n",
       "  <tbody>\n",
       "    <tr>\n",
       "      <th>45629</th>\n",
       "      <td>A-2478859</td>\n",
       "      <td>2016-02-08 00:37:08</td>\n",
       "      <td>Dublin</td>\n",
       "      <td>Franklin</td>\n",
       "      <td>OH</td>\n",
       "      <td>43017</td>\n",
       "      <td>Outerbelt E</td>\n",
       "      <td>US/Eastern</td>\n",
       "      <td>42.1</td>\n",
       "      <td>10.0</td>\n",
       "      <td>Light Rain</td>\n",
       "      <td>Ohio</td>\n",
       "    </tr>\n",
       "    <tr>\n",
       "      <th>0</th>\n",
       "      <td>A-1</td>\n",
       "      <td>2016-02-08 05:46:00</td>\n",
       "      <td>Dayton</td>\n",
       "      <td>Montgomery</td>\n",
       "      <td>OH</td>\n",
       "      <td>45424</td>\n",
       "      <td>I-70 E</td>\n",
       "      <td>US/Eastern</td>\n",
       "      <td>36.9</td>\n",
       "      <td>10.0</td>\n",
       "      <td>Light Rain</td>\n",
       "      <td>Ohio</td>\n",
       "    </tr>\n",
       "    <tr>\n",
       "      <th>45630</th>\n",
       "      <td>A-2478860</td>\n",
       "      <td>2016-02-08 05:56:20</td>\n",
       "      <td>Dayton</td>\n",
       "      <td>Montgomery</td>\n",
       "      <td>OH</td>\n",
       "      <td>45424</td>\n",
       "      <td>I-70 E</td>\n",
       "      <td>US/Eastern</td>\n",
       "      <td>36.9</td>\n",
       "      <td>10.0</td>\n",
       "      <td>Light Rain</td>\n",
       "      <td>Ohio</td>\n",
       "    </tr>\n",
       "    <tr>\n",
       "      <th>1</th>\n",
       "      <td>A-2</td>\n",
       "      <td>2016-02-08 06:07:59</td>\n",
       "      <td>Reynoldsburg</td>\n",
       "      <td>Franklin</td>\n",
       "      <td>OH</td>\n",
       "      <td>43068-3402</td>\n",
       "      <td>Brice Rd</td>\n",
       "      <td>US/Eastern</td>\n",
       "      <td>37.9</td>\n",
       "      <td>10.0</td>\n",
       "      <td>Light Rain</td>\n",
       "      <td>Ohio</td>\n",
       "    </tr>\n",
       "    <tr>\n",
       "      <th>45631</th>\n",
       "      <td>A-2478861</td>\n",
       "      <td>2016-02-08 06:15:39</td>\n",
       "      <td>Cincinnati</td>\n",
       "      <td>Hamilton</td>\n",
       "      <td>OH</td>\n",
       "      <td>45203</td>\n",
       "      <td>I-75 S</td>\n",
       "      <td>US/Eastern</td>\n",
       "      <td>36.0</td>\n",
       "      <td>10.0</td>\n",
       "      <td>Overcast</td>\n",
       "      <td>Ohio</td>\n",
       "    </tr>\n",
       "  </tbody>\n",
       "</table>\n",
       "</div>"
      ],
      "text/plain": [
       "              ID          Start_Time          City      County State  \\\n",
       "45629  A-2478859 2016-02-08 00:37:08        Dublin    Franklin    OH   \n",
       "0            A-1 2016-02-08 05:46:00        Dayton  Montgomery    OH   \n",
       "45630  A-2478860 2016-02-08 05:56:20        Dayton  Montgomery    OH   \n",
       "1            A-2 2016-02-08 06:07:59  Reynoldsburg    Franklin    OH   \n",
       "45631  A-2478861 2016-02-08 06:15:39    Cincinnati    Hamilton    OH   \n",
       "\n",
       "          Zipcode       Street    Timezone  Temperature(F)  Visibility(mi)  \\\n",
       "45629       43017  Outerbelt E  US/Eastern            42.1            10.0   \n",
       "0           45424       I-70 E  US/Eastern            36.9            10.0   \n",
       "45630       45424       I-70 E  US/Eastern            36.9            10.0   \n",
       "1      43068-3402     Brice Rd  US/Eastern            37.9            10.0   \n",
       "45631       45203       I-75 S  US/Eastern            36.0            10.0   \n",
       "\n",
       "      Weather_Condition state_name  \n",
       "45629        Light Rain       Ohio  \n",
       "0            Light Rain       Ohio  \n",
       "45630        Light Rain       Ohio  \n",
       "1            Light Rain       Ohio  \n",
       "45631          Overcast       Ohio  "
      ]
     },
     "execution_count": 15,
     "metadata": {},
     "output_type": "execute_result"
    }
   ],
   "source": [
    "# Sort by datetime\n",
    "clean_accident_data_df = clean_accident_data_df.sort_values('Start_Time')\n",
    "clean_accident_data_df.head()"
   ]
  },
  {
   "cell_type": "code",
   "execution_count": 16,
   "metadata": {},
   "outputs": [
    {
     "data": {
      "text/html": [
       "<div>\n",
       "<style scoped>\n",
       "    .dataframe tbody tr th:only-of-type {\n",
       "        vertical-align: middle;\n",
       "    }\n",
       "\n",
       "    .dataframe tbody tr th {\n",
       "        vertical-align: top;\n",
       "    }\n",
       "\n",
       "    .dataframe thead th {\n",
       "        text-align: right;\n",
       "    }\n",
       "</style>\n",
       "<table border=\"1\" class=\"dataframe\">\n",
       "  <thead>\n",
       "    <tr style=\"text-align: right;\">\n",
       "      <th></th>\n",
       "      <th>ID</th>\n",
       "      <th>Start_Time</th>\n",
       "      <th>City</th>\n",
       "      <th>County</th>\n",
       "      <th>State</th>\n",
       "      <th>Zipcode</th>\n",
       "      <th>Street</th>\n",
       "      <th>Timezone</th>\n",
       "      <th>Temperature(F)</th>\n",
       "      <th>Visibility(mi)</th>\n",
       "      <th>Weather_Condition</th>\n",
       "      <th>state_name</th>\n",
       "    </tr>\n",
       "  </thead>\n",
       "  <tbody>\n",
       "    <tr>\n",
       "      <th>1120468</th>\n",
       "      <td>A-3229937</td>\n",
       "      <td>2018-12-30 23:49:45</td>\n",
       "      <td>Orlando</td>\n",
       "      <td>Orange</td>\n",
       "      <td>FL</td>\n",
       "      <td>32832</td>\n",
       "      <td>Narcoossee Rd</td>\n",
       "      <td>US/Eastern</td>\n",
       "      <td>70.0</td>\n",
       "      <td>10.0</td>\n",
       "      <td>Scattered Clouds</td>\n",
       "      <td>Florida</td>\n",
       "    </tr>\n",
       "    <tr>\n",
       "      <th>1120467</th>\n",
       "      <td>A-3229936</td>\n",
       "      <td>2018-12-30 23:49:45</td>\n",
       "      <td>Orlando</td>\n",
       "      <td>Orange</td>\n",
       "      <td>FL</td>\n",
       "      <td>32832</td>\n",
       "      <td>Narcoossee Rd</td>\n",
       "      <td>US/Eastern</td>\n",
       "      <td>70.0</td>\n",
       "      <td>10.0</td>\n",
       "      <td>Scattered Clouds</td>\n",
       "      <td>Florida</td>\n",
       "    </tr>\n",
       "    <tr>\n",
       "      <th>3478703</th>\n",
       "      <td>A-3230370</td>\n",
       "      <td>2018-12-30 23:51:03</td>\n",
       "      <td>Wyoming</td>\n",
       "      <td>Chisago</td>\n",
       "      <td>MN</td>\n",
       "      <td>55092</td>\n",
       "      <td>I-35 N</td>\n",
       "      <td>US/Central</td>\n",
       "      <td>30.0</td>\n",
       "      <td>10.0</td>\n",
       "      <td>Overcast</td>\n",
       "      <td>Minnesota</td>\n",
       "    </tr>\n",
       "    <tr>\n",
       "      <th>2786921</th>\n",
       "      <td>A-3230568</td>\n",
       "      <td>2018-12-30 23:57:58</td>\n",
       "      <td>Astoria</td>\n",
       "      <td>Clatsop</td>\n",
       "      <td>OR</td>\n",
       "      <td>97103-2301</td>\n",
       "      <td>43rd St</td>\n",
       "      <td>US/Pacific</td>\n",
       "      <td>33.1</td>\n",
       "      <td>2.5</td>\n",
       "      <td>Clear</td>\n",
       "      <td>Oregon</td>\n",
       "    </tr>\n",
       "    <tr>\n",
       "      <th>1120485</th>\n",
       "      <td>A-3230429</td>\n",
       "      <td>2018-12-30 23:58:45</td>\n",
       "      <td>Defuniak Springs</td>\n",
       "      <td>Walton</td>\n",
       "      <td>FL</td>\n",
       "      <td>32435</td>\n",
       "      <td>I-10 E</td>\n",
       "      <td>US/Central</td>\n",
       "      <td>66.4</td>\n",
       "      <td>4.0</td>\n",
       "      <td>Overcast</td>\n",
       "      <td>Florida</td>\n",
       "    </tr>\n",
       "  </tbody>\n",
       "</table>\n",
       "</div>"
      ],
      "text/plain": [
       "                ID          Start_Time              City   County State  \\\n",
       "1120468  A-3229937 2018-12-30 23:49:45           Orlando   Orange    FL   \n",
       "1120467  A-3229936 2018-12-30 23:49:45           Orlando   Orange    FL   \n",
       "3478703  A-3230370 2018-12-30 23:51:03           Wyoming  Chisago    MN   \n",
       "2786921  A-3230568 2018-12-30 23:57:58           Astoria  Clatsop    OR   \n",
       "1120485  A-3230429 2018-12-30 23:58:45  Defuniak Springs   Walton    FL   \n",
       "\n",
       "            Zipcode         Street    Timezone  Temperature(F)  \\\n",
       "1120468       32832  Narcoossee Rd  US/Eastern            70.0   \n",
       "1120467       32832  Narcoossee Rd  US/Eastern            70.0   \n",
       "3478703       55092         I-35 N  US/Central            30.0   \n",
       "2786921  97103-2301        43rd St  US/Pacific            33.1   \n",
       "1120485       32435         I-10 E  US/Central            66.4   \n",
       "\n",
       "         Visibility(mi) Weather_Condition state_name  \n",
       "1120468            10.0  Scattered Clouds    Florida  \n",
       "1120467            10.0  Scattered Clouds    Florida  \n",
       "3478703            10.0          Overcast  Minnesota  \n",
       "2786921             2.5             Clear     Oregon  \n",
       "1120485             4.0          Overcast    Florida  "
      ]
     },
     "execution_count": 16,
     "metadata": {},
     "output_type": "execute_result"
    }
   ],
   "source": [
    "clean_accident_data_df.tail()"
   ]
  },
  {
   "cell_type": "code",
   "execution_count": 17,
   "metadata": {},
   "outputs": [
    {
     "data": {
      "text/plain": [
       "ID                   2018197\n",
       "Start_Time           2018197\n",
       "City                 2018133\n",
       "County               2018197\n",
       "State                2018197\n",
       "Zipcode              2017659\n",
       "Street               2018197\n",
       "Timezone             2016487\n",
       "Temperature(F)       1979434\n",
       "Visibility(mi)       1971104\n",
       "Weather_Condition    1970670\n",
       "state_name           2018197\n",
       "dtype: int64"
      ]
     },
     "execution_count": 17,
     "metadata": {},
     "output_type": "execute_result"
    }
   ],
   "source": [
    "clean_accident_data_df.count()"
   ]
  },
  {
   "cell_type": "code",
   "execution_count": 18,
   "metadata": {},
   "outputs": [
    {
     "data": {
      "text/plain": [
       "ID                   2018197\n",
       "Start_Time           1875832\n",
       "City                   10793\n",
       "County                  1658\n",
       "State                     49\n",
       "Zipcode               265911\n",
       "Street                128158\n",
       "Timezone                   4\n",
       "Temperature(F)           780\n",
       "Visibility(mi)            71\n",
       "Weather_Condition         95\n",
       "state_name                49\n",
       "dtype: int64"
      ]
     },
     "execution_count": 18,
     "metadata": {},
     "output_type": "execute_result"
    }
   ],
   "source": [
    "clean_accident_data_df.nunique()"
   ]
  },
  {
   "cell_type": "markdown",
   "metadata": {},
   "source": [
    "# Test to see if correct data is included"
   ]
  },
  {
   "cell_type": "code",
   "execution_count": 19,
   "metadata": {},
   "outputs": [],
   "source": [
    "# clean_accident_data_df.loc[clean_accident_data_df['ID']=='A-9152']"
   ]
  },
  {
   "cell_type": "code",
   "execution_count": 20,
   "metadata": {},
   "outputs": [],
   "source": [
    "# clean_accident_data_df.loc[clean_accident_data_df['ID']=='A-59918']"
   ]
  },
  {
   "cell_type": "code",
   "execution_count": 21,
   "metadata": {},
   "outputs": [],
   "source": [
    "# clean_accident_data_df.loc[clean_accident_data_df['ID']=='A-9153']"
   ]
  },
  {
   "cell_type": "code",
   "execution_count": 22,
   "metadata": {},
   "outputs": [],
   "source": [
    "# clean_accident_data_df.loc[clean_accident_data_df['Start_Time']=='2016-12-31 23:42:02']"
   ]
  },
  {
   "cell_type": "code",
   "execution_count": 23,
   "metadata": {},
   "outputs": [
    {
     "data": {
      "text/html": [
       "<div>\n",
       "<style scoped>\n",
       "    .dataframe tbody tr th:only-of-type {\n",
       "        vertical-align: middle;\n",
       "    }\n",
       "\n",
       "    .dataframe tbody tr th {\n",
       "        vertical-align: top;\n",
       "    }\n",
       "\n",
       "    .dataframe thead th {\n",
       "        text-align: right;\n",
       "    }\n",
       "</style>\n",
       "<table border=\"1\" class=\"dataframe\">\n",
       "  <thead>\n",
       "    <tr style=\"text-align: right;\">\n",
       "      <th></th>\n",
       "      <th>ID</th>\n",
       "      <th>Start_Time</th>\n",
       "      <th>City</th>\n",
       "      <th>County</th>\n",
       "      <th>State</th>\n",
       "      <th>Zipcode</th>\n",
       "      <th>Street</th>\n",
       "      <th>Timezone</th>\n",
       "      <th>Temperature(F)</th>\n",
       "      <th>Visibility(mi)</th>\n",
       "      <th>Weather_Condition</th>\n",
       "      <th>state_name</th>\n",
       "      <th>normalised_date</th>\n",
       "    </tr>\n",
       "  </thead>\n",
       "  <tbody>\n",
       "    <tr>\n",
       "      <th>45629</th>\n",
       "      <td>A-2478859</td>\n",
       "      <td>2016-02-08 00:37:08</td>\n",
       "      <td>Dublin</td>\n",
       "      <td>Franklin</td>\n",
       "      <td>OH</td>\n",
       "      <td>43017</td>\n",
       "      <td>Outerbelt E</td>\n",
       "      <td>US/Eastern</td>\n",
       "      <td>42.1</td>\n",
       "      <td>10.0</td>\n",
       "      <td>Light Rain</td>\n",
       "      <td>Ohio</td>\n",
       "      <td>2016-02-08</td>\n",
       "    </tr>\n",
       "    <tr>\n",
       "      <th>0</th>\n",
       "      <td>A-1</td>\n",
       "      <td>2016-02-08 05:46:00</td>\n",
       "      <td>Dayton</td>\n",
       "      <td>Montgomery</td>\n",
       "      <td>OH</td>\n",
       "      <td>45424</td>\n",
       "      <td>I-70 E</td>\n",
       "      <td>US/Eastern</td>\n",
       "      <td>36.9</td>\n",
       "      <td>10.0</td>\n",
       "      <td>Light Rain</td>\n",
       "      <td>Ohio</td>\n",
       "      <td>2016-02-08</td>\n",
       "    </tr>\n",
       "    <tr>\n",
       "      <th>45630</th>\n",
       "      <td>A-2478860</td>\n",
       "      <td>2016-02-08 05:56:20</td>\n",
       "      <td>Dayton</td>\n",
       "      <td>Montgomery</td>\n",
       "      <td>OH</td>\n",
       "      <td>45424</td>\n",
       "      <td>I-70 E</td>\n",
       "      <td>US/Eastern</td>\n",
       "      <td>36.9</td>\n",
       "      <td>10.0</td>\n",
       "      <td>Light Rain</td>\n",
       "      <td>Ohio</td>\n",
       "      <td>2016-02-08</td>\n",
       "    </tr>\n",
       "    <tr>\n",
       "      <th>1</th>\n",
       "      <td>A-2</td>\n",
       "      <td>2016-02-08 06:07:59</td>\n",
       "      <td>Reynoldsburg</td>\n",
       "      <td>Franklin</td>\n",
       "      <td>OH</td>\n",
       "      <td>43068-3402</td>\n",
       "      <td>Brice Rd</td>\n",
       "      <td>US/Eastern</td>\n",
       "      <td>37.9</td>\n",
       "      <td>10.0</td>\n",
       "      <td>Light Rain</td>\n",
       "      <td>Ohio</td>\n",
       "      <td>2016-02-08</td>\n",
       "    </tr>\n",
       "    <tr>\n",
       "      <th>45631</th>\n",
       "      <td>A-2478861</td>\n",
       "      <td>2016-02-08 06:15:39</td>\n",
       "      <td>Cincinnati</td>\n",
       "      <td>Hamilton</td>\n",
       "      <td>OH</td>\n",
       "      <td>45203</td>\n",
       "      <td>I-75 S</td>\n",
       "      <td>US/Eastern</td>\n",
       "      <td>36.0</td>\n",
       "      <td>10.0</td>\n",
       "      <td>Overcast</td>\n",
       "      <td>Ohio</td>\n",
       "      <td>2016-02-08</td>\n",
       "    </tr>\n",
       "  </tbody>\n",
       "</table>\n",
       "</div>"
      ],
      "text/plain": [
       "              ID          Start_Time          City      County State  \\\n",
       "45629  A-2478859 2016-02-08 00:37:08        Dublin    Franklin    OH   \n",
       "0            A-1 2016-02-08 05:46:00        Dayton  Montgomery    OH   \n",
       "45630  A-2478860 2016-02-08 05:56:20        Dayton  Montgomery    OH   \n",
       "1            A-2 2016-02-08 06:07:59  Reynoldsburg    Franklin    OH   \n",
       "45631  A-2478861 2016-02-08 06:15:39    Cincinnati    Hamilton    OH   \n",
       "\n",
       "          Zipcode       Street    Timezone  Temperature(F)  Visibility(mi)  \\\n",
       "45629       43017  Outerbelt E  US/Eastern            42.1            10.0   \n",
       "0           45424       I-70 E  US/Eastern            36.9            10.0   \n",
       "45630       45424       I-70 E  US/Eastern            36.9            10.0   \n",
       "1      43068-3402     Brice Rd  US/Eastern            37.9            10.0   \n",
       "45631       45203       I-75 S  US/Eastern            36.0            10.0   \n",
       "\n",
       "      Weather_Condition state_name normalised_date  \n",
       "45629        Light Rain       Ohio      2016-02-08  \n",
       "0            Light Rain       Ohio      2016-02-08  \n",
       "45630        Light Rain       Ohio      2016-02-08  \n",
       "1            Light Rain       Ohio      2016-02-08  \n",
       "45631          Overcast       Ohio      2016-02-08  "
      ]
     },
     "execution_count": 23,
     "metadata": {},
     "output_type": "execute_result"
    }
   ],
   "source": [
    "clean_accident_data_df['normalised_date'] = clean_accident_data_df['Start_Time'].dt.normalize()\n",
    "clean_accident_data_df.head()"
   ]
  },
  {
   "cell_type": "code",
   "execution_count": 24,
   "metadata": {
    "scrolled": true
   },
   "outputs": [
    {
     "data": {
      "text/html": [
       "<div>\n",
       "<style scoped>\n",
       "    .dataframe tbody tr th:only-of-type {\n",
       "        vertical-align: middle;\n",
       "    }\n",
       "\n",
       "    .dataframe tbody tr th {\n",
       "        vertical-align: top;\n",
       "    }\n",
       "\n",
       "    .dataframe thead th {\n",
       "        text-align: right;\n",
       "    }\n",
       "</style>\n",
       "<table border=\"1\" class=\"dataframe\">\n",
       "  <thead>\n",
       "    <tr style=\"text-align: right;\">\n",
       "      <th></th>\n",
       "      <th>ID</th>\n",
       "      <th>Start_Time</th>\n",
       "      <th>City</th>\n",
       "      <th>County</th>\n",
       "      <th>State</th>\n",
       "      <th>Zipcode</th>\n",
       "      <th>Street</th>\n",
       "      <th>Timezone</th>\n",
       "      <th>Temperature(F)</th>\n",
       "      <th>Visibility(mi)</th>\n",
       "      <th>Weather_Condition</th>\n",
       "      <th>state_name</th>\n",
       "      <th>normalised_date</th>\n",
       "    </tr>\n",
       "  </thead>\n",
       "  <tbody>\n",
       "    <tr>\n",
       "      <th>59215</th>\n",
       "      <td>A-3229569</td>\n",
       "      <td>2018-12-30 00:00:03</td>\n",
       "      <td>Cincinnati</td>\n",
       "      <td>Hamilton</td>\n",
       "      <td>OH</td>\n",
       "      <td>45215</td>\n",
       "      <td>I-75 S</td>\n",
       "      <td>US/Eastern</td>\n",
       "      <td>35.1</td>\n",
       "      <td>10.0</td>\n",
       "      <td>Overcast</td>\n",
       "      <td>Ohio</td>\n",
       "      <td>2018-12-30</td>\n",
       "    </tr>\n",
       "    <tr>\n",
       "      <th>388708</th>\n",
       "      <td>A-1487670</td>\n",
       "      <td>2018-12-30 00:00:56</td>\n",
       "      <td>Santa Ana</td>\n",
       "      <td>Orange</td>\n",
       "      <td>CA</td>\n",
       "      <td>92701</td>\n",
       "      <td>I-5 N</td>\n",
       "      <td>US/Pacific</td>\n",
       "      <td>48.0</td>\n",
       "      <td>10.0</td>\n",
       "      <td>Clear</td>\n",
       "      <td>California</td>\n",
       "      <td>2018-12-30</td>\n",
       "    </tr>\n",
       "    <tr>\n",
       "      <th>2303361</th>\n",
       "      <td>A-3229570</td>\n",
       "      <td>2018-12-30 00:07:45</td>\n",
       "      <td>Aldie</td>\n",
       "      <td>Loudoun</td>\n",
       "      <td>VA</td>\n",
       "      <td>20105-1903</td>\n",
       "      <td>James Monroe Hwy</td>\n",
       "      <td>US/Eastern</td>\n",
       "      <td>33.8</td>\n",
       "      <td>10.0</td>\n",
       "      <td>Clear</td>\n",
       "      <td>Virginia</td>\n",
       "      <td>2018-12-30</td>\n",
       "    </tr>\n",
       "    <tr>\n",
       "      <th>388709</th>\n",
       "      <td>A-1487671</td>\n",
       "      <td>2018-12-30 00:07:49</td>\n",
       "      <td>Los Angeles</td>\n",
       "      <td>Los Angeles</td>\n",
       "      <td>CA</td>\n",
       "      <td>90012</td>\n",
       "      <td>W 3rd St</td>\n",
       "      <td>US/Pacific</td>\n",
       "      <td>46.0</td>\n",
       "      <td>10.0</td>\n",
       "      <td>Clear</td>\n",
       "      <td>California</td>\n",
       "      <td>2018-12-30</td>\n",
       "    </tr>\n",
       "    <tr>\n",
       "      <th>2712753</th>\n",
       "      <td>A-3230036</td>\n",
       "      <td>2018-12-30 00:10:00</td>\n",
       "      <td>Seattle</td>\n",
       "      <td>King</td>\n",
       "      <td>WA</td>\n",
       "      <td>98155</td>\n",
       "      <td>I-5 N</td>\n",
       "      <td>US/Pacific</td>\n",
       "      <td>44.1</td>\n",
       "      <td>10.0</td>\n",
       "      <td>Overcast</td>\n",
       "      <td>Washington</td>\n",
       "      <td>2018-12-30</td>\n",
       "    </tr>\n",
       "    <tr>\n",
       "      <th>...</th>\n",
       "      <td>...</td>\n",
       "      <td>...</td>\n",
       "      <td>...</td>\n",
       "      <td>...</td>\n",
       "      <td>...</td>\n",
       "      <td>...</td>\n",
       "      <td>...</td>\n",
       "      <td>...</td>\n",
       "      <td>...</td>\n",
       "      <td>...</td>\n",
       "      <td>...</td>\n",
       "      <td>...</td>\n",
       "      <td>...</td>\n",
       "    </tr>\n",
       "    <tr>\n",
       "      <th>1120468</th>\n",
       "      <td>A-3229937</td>\n",
       "      <td>2018-12-30 23:49:45</td>\n",
       "      <td>Orlando</td>\n",
       "      <td>Orange</td>\n",
       "      <td>FL</td>\n",
       "      <td>32832</td>\n",
       "      <td>Narcoossee Rd</td>\n",
       "      <td>US/Eastern</td>\n",
       "      <td>70.0</td>\n",
       "      <td>10.0</td>\n",
       "      <td>Scattered Clouds</td>\n",
       "      <td>Florida</td>\n",
       "      <td>2018-12-30</td>\n",
       "    </tr>\n",
       "    <tr>\n",
       "      <th>1120467</th>\n",
       "      <td>A-3229936</td>\n",
       "      <td>2018-12-30 23:49:45</td>\n",
       "      <td>Orlando</td>\n",
       "      <td>Orange</td>\n",
       "      <td>FL</td>\n",
       "      <td>32832</td>\n",
       "      <td>Narcoossee Rd</td>\n",
       "      <td>US/Eastern</td>\n",
       "      <td>70.0</td>\n",
       "      <td>10.0</td>\n",
       "      <td>Scattered Clouds</td>\n",
       "      <td>Florida</td>\n",
       "      <td>2018-12-30</td>\n",
       "    </tr>\n",
       "    <tr>\n",
       "      <th>3478703</th>\n",
       "      <td>A-3230370</td>\n",
       "      <td>2018-12-30 23:51:03</td>\n",
       "      <td>Wyoming</td>\n",
       "      <td>Chisago</td>\n",
       "      <td>MN</td>\n",
       "      <td>55092</td>\n",
       "      <td>I-35 N</td>\n",
       "      <td>US/Central</td>\n",
       "      <td>30.0</td>\n",
       "      <td>10.0</td>\n",
       "      <td>Overcast</td>\n",
       "      <td>Minnesota</td>\n",
       "      <td>2018-12-30</td>\n",
       "    </tr>\n",
       "    <tr>\n",
       "      <th>2786921</th>\n",
       "      <td>A-3230568</td>\n",
       "      <td>2018-12-30 23:57:58</td>\n",
       "      <td>Astoria</td>\n",
       "      <td>Clatsop</td>\n",
       "      <td>OR</td>\n",
       "      <td>97103-2301</td>\n",
       "      <td>43rd St</td>\n",
       "      <td>US/Pacific</td>\n",
       "      <td>33.1</td>\n",
       "      <td>2.5</td>\n",
       "      <td>Clear</td>\n",
       "      <td>Oregon</td>\n",
       "      <td>2018-12-30</td>\n",
       "    </tr>\n",
       "    <tr>\n",
       "      <th>1120485</th>\n",
       "      <td>A-3230429</td>\n",
       "      <td>2018-12-30 23:58:45</td>\n",
       "      <td>Defuniak Springs</td>\n",
       "      <td>Walton</td>\n",
       "      <td>FL</td>\n",
       "      <td>32435</td>\n",
       "      <td>I-10 E</td>\n",
       "      <td>US/Central</td>\n",
       "      <td>66.4</td>\n",
       "      <td>4.0</td>\n",
       "      <td>Overcast</td>\n",
       "      <td>Florida</td>\n",
       "      <td>2018-12-30</td>\n",
       "    </tr>\n",
       "  </tbody>\n",
       "</table>\n",
       "<p>889 rows × 13 columns</p>\n",
       "</div>"
      ],
      "text/plain": [
       "                ID          Start_Time              City       County State  \\\n",
       "59215    A-3229569 2018-12-30 00:00:03        Cincinnati     Hamilton    OH   \n",
       "388708   A-1487670 2018-12-30 00:00:56         Santa Ana       Orange    CA   \n",
       "2303361  A-3229570 2018-12-30 00:07:45             Aldie      Loudoun    VA   \n",
       "388709   A-1487671 2018-12-30 00:07:49       Los Angeles  Los Angeles    CA   \n",
       "2712753  A-3230036 2018-12-30 00:10:00           Seattle         King    WA   \n",
       "...            ...                 ...               ...          ...   ...   \n",
       "1120468  A-3229937 2018-12-30 23:49:45           Orlando       Orange    FL   \n",
       "1120467  A-3229936 2018-12-30 23:49:45           Orlando       Orange    FL   \n",
       "3478703  A-3230370 2018-12-30 23:51:03           Wyoming      Chisago    MN   \n",
       "2786921  A-3230568 2018-12-30 23:57:58           Astoria      Clatsop    OR   \n",
       "1120485  A-3230429 2018-12-30 23:58:45  Defuniak Springs       Walton    FL   \n",
       "\n",
       "            Zipcode             Street    Timezone  Temperature(F)  \\\n",
       "59215         45215             I-75 S  US/Eastern            35.1   \n",
       "388708        92701              I-5 N  US/Pacific            48.0   \n",
       "2303361  20105-1903   James Monroe Hwy  US/Eastern            33.8   \n",
       "388709        90012           W 3rd St  US/Pacific            46.0   \n",
       "2712753       98155              I-5 N  US/Pacific            44.1   \n",
       "...             ...                ...         ...             ...   \n",
       "1120468       32832      Narcoossee Rd  US/Eastern            70.0   \n",
       "1120467       32832      Narcoossee Rd  US/Eastern            70.0   \n",
       "3478703       55092             I-35 N  US/Central            30.0   \n",
       "2786921  97103-2301            43rd St  US/Pacific            33.1   \n",
       "1120485       32435             I-10 E  US/Central            66.4   \n",
       "\n",
       "         Visibility(mi) Weather_Condition  state_name normalised_date  \n",
       "59215              10.0          Overcast        Ohio      2018-12-30  \n",
       "388708             10.0             Clear  California      2018-12-30  \n",
       "2303361            10.0             Clear    Virginia      2018-12-30  \n",
       "388709             10.0             Clear  California      2018-12-30  \n",
       "2712753            10.0          Overcast  Washington      2018-12-30  \n",
       "...                 ...               ...         ...             ...  \n",
       "1120468            10.0  Scattered Clouds     Florida      2018-12-30  \n",
       "1120467            10.0  Scattered Clouds     Florida      2018-12-30  \n",
       "3478703            10.0          Overcast   Minnesota      2018-12-30  \n",
       "2786921             2.5             Clear      Oregon      2018-12-30  \n",
       "1120485             4.0          Overcast     Florida      2018-12-30  \n",
       "\n",
       "[889 rows x 13 columns]"
      ]
     },
     "execution_count": 24,
     "metadata": {},
     "output_type": "execute_result"
    }
   ],
   "source": [
    "clean_accident_data_df.loc[clean_accident_data_df['normalised_date']=='2018-12-30']"
   ]
  },
  {
   "cell_type": "markdown",
   "metadata": {},
   "source": [
    "# Reorganize df to look pretty"
   ]
  },
  {
   "cell_type": "code",
   "execution_count": 25,
   "metadata": {},
   "outputs": [
    {
     "data": {
      "text/html": [
       "<div>\n",
       "<style scoped>\n",
       "    .dataframe tbody tr th:only-of-type {\n",
       "        vertical-align: middle;\n",
       "    }\n",
       "\n",
       "    .dataframe tbody tr th {\n",
       "        vertical-align: top;\n",
       "    }\n",
       "\n",
       "    .dataframe thead th {\n",
       "        text-align: right;\n",
       "    }\n",
       "</style>\n",
       "<table border=\"1\" class=\"dataframe\">\n",
       "  <thead>\n",
       "    <tr style=\"text-align: right;\">\n",
       "      <th></th>\n",
       "      <th>ID</th>\n",
       "      <th>Start_Time</th>\n",
       "      <th>City</th>\n",
       "      <th>County</th>\n",
       "      <th>State</th>\n",
       "      <th>state_name</th>\n",
       "      <th>Zipcode</th>\n",
       "      <th>Street</th>\n",
       "      <th>Timezone</th>\n",
       "      <th>Temperature(F)</th>\n",
       "      <th>Visibility(mi)</th>\n",
       "      <th>Weather_Condition</th>\n",
       "    </tr>\n",
       "  </thead>\n",
       "  <tbody>\n",
       "    <tr>\n",
       "      <th>45629</th>\n",
       "      <td>A-2478859</td>\n",
       "      <td>2016-02-08 00:37:08</td>\n",
       "      <td>Dublin</td>\n",
       "      <td>Franklin</td>\n",
       "      <td>OH</td>\n",
       "      <td>Ohio</td>\n",
       "      <td>43017</td>\n",
       "      <td>Outerbelt E</td>\n",
       "      <td>US/Eastern</td>\n",
       "      <td>42.1</td>\n",
       "      <td>10.0</td>\n",
       "      <td>Light Rain</td>\n",
       "    </tr>\n",
       "    <tr>\n",
       "      <th>0</th>\n",
       "      <td>A-1</td>\n",
       "      <td>2016-02-08 05:46:00</td>\n",
       "      <td>Dayton</td>\n",
       "      <td>Montgomery</td>\n",
       "      <td>OH</td>\n",
       "      <td>Ohio</td>\n",
       "      <td>45424</td>\n",
       "      <td>I-70 E</td>\n",
       "      <td>US/Eastern</td>\n",
       "      <td>36.9</td>\n",
       "      <td>10.0</td>\n",
       "      <td>Light Rain</td>\n",
       "    </tr>\n",
       "    <tr>\n",
       "      <th>45630</th>\n",
       "      <td>A-2478860</td>\n",
       "      <td>2016-02-08 05:56:20</td>\n",
       "      <td>Dayton</td>\n",
       "      <td>Montgomery</td>\n",
       "      <td>OH</td>\n",
       "      <td>Ohio</td>\n",
       "      <td>45424</td>\n",
       "      <td>I-70 E</td>\n",
       "      <td>US/Eastern</td>\n",
       "      <td>36.9</td>\n",
       "      <td>10.0</td>\n",
       "      <td>Light Rain</td>\n",
       "    </tr>\n",
       "    <tr>\n",
       "      <th>1</th>\n",
       "      <td>A-2</td>\n",
       "      <td>2016-02-08 06:07:59</td>\n",
       "      <td>Reynoldsburg</td>\n",
       "      <td>Franklin</td>\n",
       "      <td>OH</td>\n",
       "      <td>Ohio</td>\n",
       "      <td>43068-3402</td>\n",
       "      <td>Brice Rd</td>\n",
       "      <td>US/Eastern</td>\n",
       "      <td>37.9</td>\n",
       "      <td>10.0</td>\n",
       "      <td>Light Rain</td>\n",
       "    </tr>\n",
       "    <tr>\n",
       "      <th>45631</th>\n",
       "      <td>A-2478861</td>\n",
       "      <td>2016-02-08 06:15:39</td>\n",
       "      <td>Cincinnati</td>\n",
       "      <td>Hamilton</td>\n",
       "      <td>OH</td>\n",
       "      <td>Ohio</td>\n",
       "      <td>45203</td>\n",
       "      <td>I-75 S</td>\n",
       "      <td>US/Eastern</td>\n",
       "      <td>36.0</td>\n",
       "      <td>10.0</td>\n",
       "      <td>Overcast</td>\n",
       "    </tr>\n",
       "  </tbody>\n",
       "</table>\n",
       "</div>"
      ],
      "text/plain": [
       "              ID          Start_Time          City      County State  \\\n",
       "45629  A-2478859 2016-02-08 00:37:08        Dublin    Franklin    OH   \n",
       "0            A-1 2016-02-08 05:46:00        Dayton  Montgomery    OH   \n",
       "45630  A-2478860 2016-02-08 05:56:20        Dayton  Montgomery    OH   \n",
       "1            A-2 2016-02-08 06:07:59  Reynoldsburg    Franklin    OH   \n",
       "45631  A-2478861 2016-02-08 06:15:39    Cincinnati    Hamilton    OH   \n",
       "\n",
       "      state_name     Zipcode       Street    Timezone  Temperature(F)  \\\n",
       "45629       Ohio       43017  Outerbelt E  US/Eastern            42.1   \n",
       "0           Ohio       45424       I-70 E  US/Eastern            36.9   \n",
       "45630       Ohio       45424       I-70 E  US/Eastern            36.9   \n",
       "1           Ohio  43068-3402     Brice Rd  US/Eastern            37.9   \n",
       "45631       Ohio       45203       I-75 S  US/Eastern            36.0   \n",
       "\n",
       "       Visibility(mi) Weather_Condition  \n",
       "45629            10.0        Light Rain  \n",
       "0                10.0        Light Rain  \n",
       "45630            10.0        Light Rain  \n",
       "1                10.0        Light Rain  \n",
       "45631            10.0          Overcast  "
      ]
     },
     "execution_count": 25,
     "metadata": {},
     "output_type": "execute_result"
    }
   ],
   "source": [
    "clean_accident_data_df = clean_accident_data_df[['ID', 'Start_Time', 'City', 'County', 'State', 'state_name', 'Zipcode', 'Street', 'Timezone', 'Temperature(F)', 'Visibility(mi)', 'Weather_Condition']]\n",
    "clean_accident_data_df.head()"
   ]
  },
  {
   "cell_type": "code",
   "execution_count": 26,
   "metadata": {},
   "outputs": [],
   "source": [
    "# clean_accident_data_df.set_index(\"ID\", inplace=True)"
   ]
  },
  {
   "cell_type": "code",
   "execution_count": 27,
   "metadata": {},
   "outputs": [],
   "source": [
    "# clean_accident_data_df.head()"
   ]
  },
  {
   "cell_type": "code",
   "execution_count": 28,
   "metadata": {},
   "outputs": [],
   "source": [
    "clean_accident_data_df = clean_accident_data_df.rename(columns={\"State\": \"state_abbrev\",\n",
    "                                                               \"state_name\":\"State\",\n",
    "                                                               \"Start_Time\": \"Date_Time\"})\n"
   ]
  },
  {
   "cell_type": "markdown",
   "metadata": {},
   "source": [
    "# Tunde - Population from 2015-2018"
   ]
  },
  {
   "cell_type": "code",
   "execution_count": 36,
   "metadata": {},
   "outputs": [],
   "source": [
    "#make API call to Census API for all US county estimated population for 2015\n",
    "c = Census(api_key, year=2015)"
   ]
  },
  {
   "cell_type": "code",
   "execution_count": 37,
   "metadata": {},
   "outputs": [
    {
     "ename": "CensusException",
     "evalue": "<html><head><title>Error report</title></head><body><h1>HTTP Status 404 - /data/2015/acs5</h1></body></html>",
     "output_type": "error",
     "traceback": [
      "\u001b[1;31m---------------------------------------------------------------------------\u001b[0m",
      "\u001b[1;31mCensusException\u001b[0m                           Traceback (most recent call last)",
      "\u001b[1;32m<ipython-input-37-1ad7d681ce0b>\u001b[0m in \u001b[0;36m<module>\u001b[1;34m\u001b[0m\n\u001b[1;32m----> 1\u001b[1;33m \u001b[0mcounty_pop_data\u001b[0m\u001b[1;33m=\u001b[0m \u001b[0mc\u001b[0m\u001b[1;33m.\u001b[0m\u001b[0macs5\u001b[0m\u001b[1;33m.\u001b[0m\u001b[0mget\u001b[0m\u001b[1;33m(\u001b[0m\u001b[1;33m(\u001b[0m\u001b[1;34m\"NAME\"\u001b[0m\u001b[1;33m,\u001b[0m\u001b[1;34m\"B01001_001E\"\u001b[0m\u001b[1;33m)\u001b[0m\u001b[1;33m,\u001b[0m \u001b[1;33m{\u001b[0m\u001b[1;34m\"for\"\u001b[0m\u001b[1;33m:\u001b[0m \u001b[1;34m\"county:*\"\u001b[0m\u001b[1;33m}\u001b[0m\u001b[1;33m)\u001b[0m\u001b[1;33m\u001b[0m\u001b[1;33m\u001b[0m\u001b[0m\n\u001b[0m\u001b[0;32m      2\u001b[0m \u001b[1;31m#2015\u001b[0m\u001b[1;33m\u001b[0m\u001b[1;33m\u001b[0m\u001b[1;33m\u001b[0m\u001b[0m\n",
      "\u001b[1;32mH:\\Anaconda\\envs\\PythonData\\lib\\site-packages\\census\\core.py\u001b[0m in \u001b[0;36mget\u001b[1;34m(self, *args, **kwargs)\u001b[0m\n\u001b[0;32m    275\u001b[0m         \u001b[0mself\u001b[0m\u001b[1;33m.\u001b[0m\u001b[0m_switch_endpoints\u001b[0m\u001b[1;33m(\u001b[0m\u001b[0mkwargs\u001b[0m\u001b[1;33m.\u001b[0m\u001b[0mget\u001b[0m\u001b[1;33m(\u001b[0m\u001b[1;34m'year'\u001b[0m\u001b[1;33m,\u001b[0m \u001b[0mself\u001b[0m\u001b[1;33m.\u001b[0m\u001b[0mdefault_year\u001b[0m\u001b[1;33m)\u001b[0m\u001b[1;33m)\u001b[0m\u001b[1;33m\u001b[0m\u001b[1;33m\u001b[0m\u001b[0m\n\u001b[0;32m    276\u001b[0m \u001b[1;33m\u001b[0m\u001b[0m\n\u001b[1;32m--> 277\u001b[1;33m         \u001b[1;32mreturn\u001b[0m \u001b[0msuper\u001b[0m\u001b[1;33m(\u001b[0m\u001b[0mACSClient\u001b[0m\u001b[1;33m,\u001b[0m \u001b[0mself\u001b[0m\u001b[1;33m)\u001b[0m\u001b[1;33m.\u001b[0m\u001b[0mget\u001b[0m\u001b[1;33m(\u001b[0m\u001b[1;33m*\u001b[0m\u001b[0margs\u001b[0m\u001b[1;33m,\u001b[0m \u001b[1;33m**\u001b[0m\u001b[0mkwargs\u001b[0m\u001b[1;33m)\u001b[0m\u001b[1;33m\u001b[0m\u001b[1;33m\u001b[0m\u001b[0m\n\u001b[0m\u001b[0;32m    278\u001b[0m \u001b[1;33m\u001b[0m\u001b[0m\n\u001b[0;32m    279\u001b[0m \u001b[1;32mclass\u001b[0m \u001b[0mACS5Client\u001b[0m\u001b[1;33m(\u001b[0m\u001b[0mACSClient\u001b[0m\u001b[1;33m)\u001b[0m\u001b[1;33m:\u001b[0m\u001b[1;33m\u001b[0m\u001b[1;33m\u001b[0m\u001b[0m\n",
      "\u001b[1;32mH:\\Anaconda\\envs\\PythonData\\lib\\site-packages\\census\\core.py\u001b[0m in \u001b[0;36mget\u001b[1;34m(self, fields, geo, year, **kwargs)\u001b[0m\n\u001b[0;32m    132\u001b[0m         all_results = (self.query(fifty_fields, geo, year, **kwargs)\n\u001b[0;32m    133\u001b[0m                        for fifty_fields in chunks(fields, 50))\n\u001b[1;32m--> 134\u001b[1;33m         \u001b[0mmerged_results\u001b[0m \u001b[1;33m=\u001b[0m \u001b[1;33m[\u001b[0m\u001b[0mmerge\u001b[0m\u001b[1;33m(\u001b[0m\u001b[0mresult\u001b[0m\u001b[1;33m)\u001b[0m \u001b[1;32mfor\u001b[0m \u001b[0mresult\u001b[0m \u001b[1;32min\u001b[0m \u001b[0mzip\u001b[0m\u001b[1;33m(\u001b[0m\u001b[1;33m*\u001b[0m\u001b[0mall_results\u001b[0m\u001b[1;33m)\u001b[0m\u001b[1;33m]\u001b[0m\u001b[1;33m\u001b[0m\u001b[1;33m\u001b[0m\u001b[0m\n\u001b[0m\u001b[0;32m    135\u001b[0m \u001b[1;33m\u001b[0m\u001b[0m\n\u001b[0;32m    136\u001b[0m         \u001b[1;32mreturn\u001b[0m \u001b[0mmerged_results\u001b[0m\u001b[1;33m\u001b[0m\u001b[1;33m\u001b[0m\u001b[0m\n",
      "\u001b[1;32mH:\\Anaconda\\envs\\PythonData\\lib\\site-packages\\census\\core.py\u001b[0m in \u001b[0;36m<genexpr>\u001b[1;34m(.0)\u001b[0m\n\u001b[0;32m    130\u001b[0m \u001b[1;33m\u001b[0m\u001b[0m\n\u001b[0;32m    131\u001b[0m     \u001b[1;32mdef\u001b[0m \u001b[0mget\u001b[0m\u001b[1;33m(\u001b[0m\u001b[0mself\u001b[0m\u001b[1;33m,\u001b[0m \u001b[0mfields\u001b[0m\u001b[1;33m,\u001b[0m \u001b[0mgeo\u001b[0m\u001b[1;33m,\u001b[0m \u001b[0myear\u001b[0m\u001b[1;33m=\u001b[0m\u001b[1;32mNone\u001b[0m\u001b[1;33m,\u001b[0m \u001b[1;33m**\u001b[0m\u001b[0mkwargs\u001b[0m\u001b[1;33m)\u001b[0m\u001b[1;33m:\u001b[0m\u001b[1;33m\u001b[0m\u001b[1;33m\u001b[0m\u001b[0m\n\u001b[1;32m--> 132\u001b[1;33m         all_results = (self.query(fifty_fields, geo, year, **kwargs)\n\u001b[0m\u001b[0;32m    133\u001b[0m                        for fifty_fields in chunks(fields, 50))\n\u001b[0;32m    134\u001b[0m         \u001b[0mmerged_results\u001b[0m \u001b[1;33m=\u001b[0m \u001b[1;33m[\u001b[0m\u001b[0mmerge\u001b[0m\u001b[1;33m(\u001b[0m\u001b[0mresult\u001b[0m\u001b[1;33m)\u001b[0m \u001b[1;32mfor\u001b[0m \u001b[0mresult\u001b[0m \u001b[1;32min\u001b[0m \u001b[0mzip\u001b[0m\u001b[1;33m(\u001b[0m\u001b[1;33m*\u001b[0m\u001b[0mall_results\u001b[0m\u001b[1;33m)\u001b[0m\u001b[1;33m]\u001b[0m\u001b[1;33m\u001b[0m\u001b[1;33m\u001b[0m\u001b[0m\n",
      "\u001b[1;32mH:\\Anaconda\\envs\\PythonData\\lib\\site-packages\\census\\core.py\u001b[0m in \u001b[0;36mquery\u001b[1;34m(self, fields, geo, year, **kwargs)\u001b[0m\n\u001b[0;32m    177\u001b[0m \u001b[1;33m\u001b[0m\u001b[0m\n\u001b[0;32m    178\u001b[0m         \u001b[1;32melse\u001b[0m\u001b[1;33m:\u001b[0m\u001b[1;33m\u001b[0m\u001b[1;33m\u001b[0m\u001b[0m\n\u001b[1;32m--> 179\u001b[1;33m             \u001b[1;32mraise\u001b[0m \u001b[0mCensusException\u001b[0m\u001b[1;33m(\u001b[0m\u001b[0mresp\u001b[0m\u001b[1;33m.\u001b[0m\u001b[0mtext\u001b[0m\u001b[1;33m)\u001b[0m\u001b[1;33m\u001b[0m\u001b[1;33m\u001b[0m\u001b[0m\n\u001b[0m\u001b[0;32m    180\u001b[0m \u001b[1;33m\u001b[0m\u001b[0m\n\u001b[0;32m    181\u001b[0m     \u001b[1;33m@\u001b[0m\u001b[0mlru_cache\u001b[0m\u001b[1;33m(\u001b[0m\u001b[0mmaxsize\u001b[0m\u001b[1;33m=\u001b[0m\u001b[1;36m1024\u001b[0m\u001b[1;33m)\u001b[0m\u001b[1;33m\u001b[0m\u001b[1;33m\u001b[0m\u001b[0m\n",
      "\u001b[1;31mCensusException\u001b[0m: <html><head><title>Error report</title></head><body><h1>HTTP Status 404 - /data/2015/acs5</h1></body></html>"
     ]
    }
   ],
   "source": [
    "county_pop_data= c.acs5.get((\"NAME\",\"B01001_001E\"), {\"for\": \"county:*\"})\n",
    "#2015"
   ]
  },
  {
   "cell_type": "code",
   "execution_count": 35,
   "metadata": {},
   "outputs": [
    {
     "ename": "CensusException",
     "evalue": "<html><head><title>Error report</title></head><body><h1>HTTP Status 404 - /data/2015/acs5</h1></body></html>",
     "output_type": "error",
     "traceback": [
      "\u001b[1;31m---------------------------------------------------------------------------\u001b[0m",
      "\u001b[1;31mCensusException\u001b[0m                           Traceback (most recent call last)",
      "\u001b[1;32m<ipython-input-35-c8009f525290>\u001b[0m in \u001b[0;36m<module>\u001b[1;34m\u001b[0m\n\u001b[0;32m      1\u001b[0m \u001b[1;31m#make API call to Census API for all US county estimated population for 2015\u001b[0m\u001b[1;33m\u001b[0m\u001b[1;33m\u001b[0m\u001b[1;33m\u001b[0m\u001b[0m\n\u001b[0;32m      2\u001b[0m \u001b[0mc\u001b[0m \u001b[1;33m=\u001b[0m \u001b[0mCensus\u001b[0m\u001b[1;33m(\u001b[0m\u001b[0mapi_key\u001b[0m\u001b[1;33m,\u001b[0m \u001b[0myear\u001b[0m\u001b[1;33m=\u001b[0m\u001b[1;36m2015\u001b[0m\u001b[1;33m)\u001b[0m\u001b[1;33m\u001b[0m\u001b[1;33m\u001b[0m\u001b[0m\n\u001b[1;32m----> 3\u001b[1;33m \u001b[0mcounty_pop_data\u001b[0m\u001b[1;33m=\u001b[0m \u001b[0mc\u001b[0m\u001b[1;33m.\u001b[0m\u001b[0macs5\u001b[0m\u001b[1;33m.\u001b[0m\u001b[0mget\u001b[0m\u001b[1;33m(\u001b[0m\u001b[1;33m(\u001b[0m\u001b[1;34m\"NAME\"\u001b[0m\u001b[1;33m,\u001b[0m\u001b[1;34m\"B01001_001E\"\u001b[0m\u001b[1;33m)\u001b[0m\u001b[1;33m,\u001b[0m \u001b[1;33m{\u001b[0m\u001b[1;34m\"for\"\u001b[0m\u001b[1;33m:\u001b[0m \u001b[1;34m\"county:*\"\u001b[0m\u001b[1;33m}\u001b[0m\u001b[1;33m)\u001b[0m\u001b[1;33m\u001b[0m\u001b[1;33m\u001b[0m\u001b[0m\n\u001b[0m\u001b[0;32m      4\u001b[0m \u001b[1;31m#2015\u001b[0m\u001b[1;33m\u001b[0m\u001b[1;33m\u001b[0m\u001b[1;33m\u001b[0m\u001b[0m\n\u001b[0;32m      5\u001b[0m \u001b[0mcounty_pop15_df\u001b[0m \u001b[1;33m=\u001b[0m \u001b[0mpd\u001b[0m\u001b[1;33m.\u001b[0m\u001b[0mDataFrame\u001b[0m\u001b[1;33m(\u001b[0m\u001b[0mcounty_pop_data\u001b[0m\u001b[1;33m)\u001b[0m\u001b[1;33m\u001b[0m\u001b[1;33m\u001b[0m\u001b[0m\n",
      "\u001b[1;32mH:\\Anaconda\\envs\\PythonData\\lib\\site-packages\\census\\core.py\u001b[0m in \u001b[0;36mget\u001b[1;34m(self, *args, **kwargs)\u001b[0m\n\u001b[0;32m    275\u001b[0m         \u001b[0mself\u001b[0m\u001b[1;33m.\u001b[0m\u001b[0m_switch_endpoints\u001b[0m\u001b[1;33m(\u001b[0m\u001b[0mkwargs\u001b[0m\u001b[1;33m.\u001b[0m\u001b[0mget\u001b[0m\u001b[1;33m(\u001b[0m\u001b[1;34m'year'\u001b[0m\u001b[1;33m,\u001b[0m \u001b[0mself\u001b[0m\u001b[1;33m.\u001b[0m\u001b[0mdefault_year\u001b[0m\u001b[1;33m)\u001b[0m\u001b[1;33m)\u001b[0m\u001b[1;33m\u001b[0m\u001b[1;33m\u001b[0m\u001b[0m\n\u001b[0;32m    276\u001b[0m \u001b[1;33m\u001b[0m\u001b[0m\n\u001b[1;32m--> 277\u001b[1;33m         \u001b[1;32mreturn\u001b[0m \u001b[0msuper\u001b[0m\u001b[1;33m(\u001b[0m\u001b[0mACSClient\u001b[0m\u001b[1;33m,\u001b[0m \u001b[0mself\u001b[0m\u001b[1;33m)\u001b[0m\u001b[1;33m.\u001b[0m\u001b[0mget\u001b[0m\u001b[1;33m(\u001b[0m\u001b[1;33m*\u001b[0m\u001b[0margs\u001b[0m\u001b[1;33m,\u001b[0m \u001b[1;33m**\u001b[0m\u001b[0mkwargs\u001b[0m\u001b[1;33m)\u001b[0m\u001b[1;33m\u001b[0m\u001b[1;33m\u001b[0m\u001b[0m\n\u001b[0m\u001b[0;32m    278\u001b[0m \u001b[1;33m\u001b[0m\u001b[0m\n\u001b[0;32m    279\u001b[0m \u001b[1;32mclass\u001b[0m \u001b[0mACS5Client\u001b[0m\u001b[1;33m(\u001b[0m\u001b[0mACSClient\u001b[0m\u001b[1;33m)\u001b[0m\u001b[1;33m:\u001b[0m\u001b[1;33m\u001b[0m\u001b[1;33m\u001b[0m\u001b[0m\n",
      "\u001b[1;32mH:\\Anaconda\\envs\\PythonData\\lib\\site-packages\\census\\core.py\u001b[0m in \u001b[0;36mget\u001b[1;34m(self, fields, geo, year, **kwargs)\u001b[0m\n\u001b[0;32m    132\u001b[0m         all_results = (self.query(fifty_fields, geo, year, **kwargs)\n\u001b[0;32m    133\u001b[0m                        for fifty_fields in chunks(fields, 50))\n\u001b[1;32m--> 134\u001b[1;33m         \u001b[0mmerged_results\u001b[0m \u001b[1;33m=\u001b[0m \u001b[1;33m[\u001b[0m\u001b[0mmerge\u001b[0m\u001b[1;33m(\u001b[0m\u001b[0mresult\u001b[0m\u001b[1;33m)\u001b[0m \u001b[1;32mfor\u001b[0m \u001b[0mresult\u001b[0m \u001b[1;32min\u001b[0m \u001b[0mzip\u001b[0m\u001b[1;33m(\u001b[0m\u001b[1;33m*\u001b[0m\u001b[0mall_results\u001b[0m\u001b[1;33m)\u001b[0m\u001b[1;33m]\u001b[0m\u001b[1;33m\u001b[0m\u001b[1;33m\u001b[0m\u001b[0m\n\u001b[0m\u001b[0;32m    135\u001b[0m \u001b[1;33m\u001b[0m\u001b[0m\n\u001b[0;32m    136\u001b[0m         \u001b[1;32mreturn\u001b[0m \u001b[0mmerged_results\u001b[0m\u001b[1;33m\u001b[0m\u001b[1;33m\u001b[0m\u001b[0m\n",
      "\u001b[1;32mH:\\Anaconda\\envs\\PythonData\\lib\\site-packages\\census\\core.py\u001b[0m in \u001b[0;36m<genexpr>\u001b[1;34m(.0)\u001b[0m\n\u001b[0;32m    130\u001b[0m \u001b[1;33m\u001b[0m\u001b[0m\n\u001b[0;32m    131\u001b[0m     \u001b[1;32mdef\u001b[0m \u001b[0mget\u001b[0m\u001b[1;33m(\u001b[0m\u001b[0mself\u001b[0m\u001b[1;33m,\u001b[0m \u001b[0mfields\u001b[0m\u001b[1;33m,\u001b[0m \u001b[0mgeo\u001b[0m\u001b[1;33m,\u001b[0m \u001b[0myear\u001b[0m\u001b[1;33m=\u001b[0m\u001b[1;32mNone\u001b[0m\u001b[1;33m,\u001b[0m \u001b[1;33m**\u001b[0m\u001b[0mkwargs\u001b[0m\u001b[1;33m)\u001b[0m\u001b[1;33m:\u001b[0m\u001b[1;33m\u001b[0m\u001b[1;33m\u001b[0m\u001b[0m\n\u001b[1;32m--> 132\u001b[1;33m         all_results = (self.query(fifty_fields, geo, year, **kwargs)\n\u001b[0m\u001b[0;32m    133\u001b[0m                        for fifty_fields in chunks(fields, 50))\n\u001b[0;32m    134\u001b[0m         \u001b[0mmerged_results\u001b[0m \u001b[1;33m=\u001b[0m \u001b[1;33m[\u001b[0m\u001b[0mmerge\u001b[0m\u001b[1;33m(\u001b[0m\u001b[0mresult\u001b[0m\u001b[1;33m)\u001b[0m \u001b[1;32mfor\u001b[0m \u001b[0mresult\u001b[0m \u001b[1;32min\u001b[0m \u001b[0mzip\u001b[0m\u001b[1;33m(\u001b[0m\u001b[1;33m*\u001b[0m\u001b[0mall_results\u001b[0m\u001b[1;33m)\u001b[0m\u001b[1;33m]\u001b[0m\u001b[1;33m\u001b[0m\u001b[1;33m\u001b[0m\u001b[0m\n",
      "\u001b[1;32mH:\\Anaconda\\envs\\PythonData\\lib\\site-packages\\census\\core.py\u001b[0m in \u001b[0;36mquery\u001b[1;34m(self, fields, geo, year, **kwargs)\u001b[0m\n\u001b[0;32m    177\u001b[0m \u001b[1;33m\u001b[0m\u001b[0m\n\u001b[0;32m    178\u001b[0m         \u001b[1;32melse\u001b[0m\u001b[1;33m:\u001b[0m\u001b[1;33m\u001b[0m\u001b[1;33m\u001b[0m\u001b[0m\n\u001b[1;32m--> 179\u001b[1;33m             \u001b[1;32mraise\u001b[0m \u001b[0mCensusException\u001b[0m\u001b[1;33m(\u001b[0m\u001b[0mresp\u001b[0m\u001b[1;33m.\u001b[0m\u001b[0mtext\u001b[0m\u001b[1;33m)\u001b[0m\u001b[1;33m\u001b[0m\u001b[1;33m\u001b[0m\u001b[0m\n\u001b[0m\u001b[0;32m    180\u001b[0m \u001b[1;33m\u001b[0m\u001b[0m\n\u001b[0;32m    181\u001b[0m     \u001b[1;33m@\u001b[0m\u001b[0mlru_cache\u001b[0m\u001b[1;33m(\u001b[0m\u001b[0mmaxsize\u001b[0m\u001b[1;33m=\u001b[0m\u001b[1;36m1024\u001b[0m\u001b[1;33m)\u001b[0m\u001b[1;33m\u001b[0m\u001b[1;33m\u001b[0m\u001b[0m\n",
      "\u001b[1;31mCensusException\u001b[0m: <html><head><title>Error report</title></head><body><h1>HTTP Status 404 - /data/2015/acs5</h1></body></html>"
     ]
    }
   ],
   "source": [
    "county_pop15_df = pd.DataFrame(county_pop_data)\n",
    "county_pop15_df.rename(columns = {\"B01001_001E\":\"2015\"}, inplace=True)\n",
    "county_pop15_df.head()"
   ]
  },
  {
   "cell_type": "code",
   "execution_count": null,
   "metadata": {},
   "outputs": [],
   "source": [
    "#2015\n",
    "county_pop15_df = pd.DataFrame(county_pop_data)\n",
    "county_pop15_df.rename(columns = {\"B01001_001E\":\"2015\"}, inplace=True)\n",
    "county_pop15_df.head()"
   ]
  },
  {
   "cell_type": "code",
   "execution_count": null,
   "metadata": {},
   "outputs": [],
   "source": [
    "#2016\n",
    "c = Census(api_key, year=2016)\n",
    "county_pop_data= c.acs5.get((\"NAME\",\"B01001_001E\"), {\"for\": \"county:*\"})"
   ]
  },
  {
   "cell_type": "code",
   "execution_count": null,
   "metadata": {},
   "outputs": [],
   "source": [
    "county_pop16_df = pd.DataFrame(county_pop_data)\n",
    "county_pop16_df.rename(columns = {\"B01001_001E\":\"2016\"}, inplace=True)\n",
    "county_pop16_df.head()"
   ]
  },
  {
   "cell_type": "code",
   "execution_count": null,
   "metadata": {},
   "outputs": [],
   "source": [
    "#2017\n",
    "c = Census(api_key, year=2017)\n",
    "county_pop_data= c.acs5.get((\"NAME\",\"B01001_001E\"), {\"for\": \"county:*\"})"
   ]
  },
  {
   "cell_type": "code",
   "execution_count": null,
   "metadata": {},
   "outputs": [],
   "source": [
    "county_pop17_df = pd.DataFrame(county_pop_data)\n",
    "county_pop17_df.rename(columns = {\"B01001_001E\":\"2017\"}, inplace=True)\n",
    "county_pop17_df.head()"
   ]
  },
  {
   "cell_type": "code",
   "execution_count": null,
   "metadata": {},
   "outputs": [],
   "source": [
    "#2018\n",
    "c = Census(api_key, year=2018)\n",
    "county_pop_data= c.acs5.get((\"NAME\",\"B01001_001E\"), {\"for\": \"county:*\"})"
   ]
  },
  {
   "cell_type": "code",
   "execution_count": null,
   "metadata": {},
   "outputs": [],
   "source": [
    "county_pop18_df = pd.DataFrame(county_pop_data)\n",
    "county_pop18_df.rename(columns = {\"B01001_001E\":\"2018\"}, inplace=True)\n",
    "county_pop18_df.head()"
   ]
  },
  {
   "cell_type": "code",
   "execution_count": null,
   "metadata": {},
   "outputs": [],
   "source": [
    "df_1516 = pd.merge(county_pop15_df, county_pop16_df, on=\"NAME\")"
   ]
  },
  {
   "cell_type": "code",
   "execution_count": null,
   "metadata": {},
   "outputs": [],
   "source": [
    "df_1718 = pd.merge(county_pop17_df, county_pop18_df, on=\"NAME\")"
   ]
  },
  {
   "cell_type": "code",
   "execution_count": null,
   "metadata": {},
   "outputs": [],
   "source": [
    "county_pop_df = pd.merge(df_1516, df_1718, on=\"NAME\")"
   ]
  },
  {
   "cell_type": "code",
   "execution_count": null,
   "metadata": {},
   "outputs": [],
   "source": [
    "county_pop_df.head()"
   ]
  },
  {
   "cell_type": "code",
   "execution_count": null,
   "metadata": {},
   "outputs": [],
   "source": [
    "county_pop_df.drop(columns=[\"state_x_x\",\"county_x_x\",\"state_y_x\",\"county_y_x\",\"state_x_y\",\"county_x_y\"], inplace=True)\n"
   ]
  },
  {
   "cell_type": "code",
   "execution_count": null,
   "metadata": {},
   "outputs": [],
   "source": [
    "county_pop_df.rename(columns = {\"NAME\":\"county\", \"state_y_y\":\"state_id\", \"county_y_y\":\"county_id\"}, inplace=True)"
   ]
  },
  {
   "cell_type": "code",
   "execution_count": null,
   "metadata": {},
   "outputs": [],
   "source": [
    "county_pop_df = county_pop_df[[\"county\",\"county_id\",\"state_id\",\"2015\",\"2016\",\"2017\",\"2018\"]]\n",
    "county_pop_df.head()"
   ]
  },
  {
   "cell_type": "code",
   "execution_count": null,
   "metadata": {},
   "outputs": [],
   "source": [
    "county_pop_df.info()"
   ]
  },
  {
   "cell_type": "code",
   "execution_count": null,
   "metadata": {},
   "outputs": [],
   "source": [
    "county_pop_df.count()"
   ]
  },
  {
   "cell_type": "code",
   "execution_count": null,
   "metadata": {},
   "outputs": [],
   "source": [
    "#make another call for state population just to get a list of states since county infor only have state census id\n",
    "state_pop_data= c.acs5.get((\"NAME\",\"B01001_001E\"), {\"for\": \"state:*\"})"
   ]
  },
  {
   "cell_type": "code",
   "execution_count": null,
   "metadata": {},
   "outputs": [],
   "source": [
    "#pass on the state pop data to a df\n",
    "state_pop_df = pd.DataFrame(state_pop_data)\n",
    "state_pop_df.head()"
   ]
  },
  {
   "cell_type": "code",
   "execution_count": null,
   "metadata": {},
   "outputs": [],
   "source": [
    "#drop population column from the state pop data df\n",
    "state_pop1_df = state_pop_df.drop(columns=[\"B01001_001E\"])"
   ]
  },
  {
   "cell_type": "code",
   "execution_count": null,
   "metadata": {},
   "outputs": [],
   "source": [
    "state_pop1_df.head()"
   ]
  },
  {
   "cell_type": "code",
   "execution_count": null,
   "metadata": {},
   "outputs": [],
   "source": [
    "#rename \"Name\" column to prevent duplication when merging with county pop df\n",
    "state_pop1_df.rename(columns = {\"NAME\":\"state\", \"state\":\"state_id\"}, inplace=True)"
   ]
  },
  {
   "cell_type": "code",
   "execution_count": null,
   "metadata": {},
   "outputs": [],
   "source": [
    "state_pop1_df.head()"
   ]
  },
  {
   "cell_type": "code",
   "execution_count": null,
   "metadata": {},
   "outputs": [],
   "source": [
    "#merge state and county df on the \"state\" the numeric identifier for states\n",
    "county_pop1_df = pd.merge(county_pop_df, state_pop1_df, on=\"state_id\")"
   ]
  },
  {
   "cell_type": "code",
   "execution_count": null,
   "metadata": {},
   "outputs": [],
   "source": [
    "county_pop1_df.head()"
   ]
  },
  {
   "cell_type": "code",
   "execution_count": null,
   "metadata": {},
   "outputs": [],
   "source": [
    "#reorder columns \n",
    "county_pop1_df = county_pop1_df[[\"county\",\"county_id\",\"state\",\"state_id\",\"2015\",\"2016\",\"2017\",\"2018\"]]"
   ]
  },
  {
   "cell_type": "code",
   "execution_count": null,
   "metadata": {},
   "outputs": [],
   "source": [
    "county_pop1_df.info()"
   ]
  },
  {
   "cell_type": "code",
   "execution_count": null,
   "metadata": {},
   "outputs": [],
   "source": [
    "#convert population columns to numeric\n",
    "county_pop1_df[[\"2015\",\"2016\",\"2017\",\"2018\"]] = county_pop1_df[[\"2015\",\"2016\",\"2017\",\"2018\"]].apply(pd.to_numeric)"
   ]
  },
  {
   "cell_type": "code",
   "execution_count": null,
   "metadata": {},
   "outputs": [],
   "source": [
    "county_pop1_df.info()"
   ]
  },
  {
   "cell_type": "code",
   "execution_count": null,
   "metadata": {},
   "outputs": [],
   "source": [
    "#import US state 2 letter abbreviation dictionary to create a state table \n",
    "us_state_abbrev = {\n",
    "    'Alabama': 'AL',\n",
    "    'Alaska': 'AK',\n",
    "    'American Samoa': 'AS',\n",
    "    'Arizona': 'AZ',\n",
    "    'Arkansas': 'AR',\n",
    "    'California': 'CA',\n",
    "    'Colorado': 'CO',\n",
    "    'Connecticut': 'CT',\n",
    "    'Delaware': 'DE',\n",
    "    'District of Columbia': 'DC',\n",
    "    'Florida': 'FL',\n",
    "    'Georgia': 'GA',\n",
    "    'Guam': 'GU',\n",
    "    'Hawaii': 'HI',\n",
    "    'Idaho': 'ID',\n",
    "    'Illinois': 'IL',\n",
    "    'Indiana': 'IN',\n",
    "    'Iowa': 'IA',\n",
    "    'Kansas': 'KS',\n",
    "    'Kentucky': 'KY',\n",
    "    'Louisiana': 'LA',\n",
    "    'Maine': 'ME',\n",
    "    'Maryland': 'MD',\n",
    "    'Massachusetts': 'MA',\n",
    "    'Michigan': 'MI',\n",
    "    'Minnesota': 'MN',\n",
    "    'Mississippi': 'MS',\n",
    "    'Missouri': 'MO',\n",
    "    'Montana': 'MT',\n",
    "    'Nebraska': 'NE',\n",
    "    'Nevada': 'NV',\n",
    "    'New Hampshire': 'NH',\n",
    "    'New Jersey': 'NJ',\n",
    "    'New Mexico': 'NM',\n",
    "    'New York': 'NY',\n",
    "    'North Carolina': 'NC',\n",
    "    'North Dakota': 'ND',\n",
    "    'Northern Mariana Islands':'MP',\n",
    "    'Ohio': 'OH',\n",
    "    'Oklahoma': 'OK',\n",
    "    'Oregon': 'OR',\n",
    "    'Pennsylvania': 'PA',\n",
    "    'Puerto Rico': 'PR',\n",
    "    'Rhode Island': 'RI',\n",
    "    'South Carolina': 'SC',\n",
    "    'South Dakota': 'SD',\n",
    "    'Tennessee': 'TN',\n",
    "    'Texas': 'TX',\n",
    "    'Utah': 'UT',\n",
    "    'Vermont': 'VT',\n",
    "    'Virgin Islands': 'VI',\n",
    "    'Virginia': 'VA',\n",
    "    'Washington': 'WA',\n",
    "    'West Virginia': 'WV',\n",
    "    'Wisconsin': 'WI',\n",
    "    'Wyoming': 'WY'\n",
    "}"
   ]
  },
  {
   "cell_type": "code",
   "execution_count": null,
   "metadata": {},
   "outputs": [],
   "source": [
    "state_series = pd.Series(us_state_abbrev)"
   ]
  },
  {
   "cell_type": "code",
   "execution_count": null,
   "metadata": {},
   "outputs": [],
   "source": [
    "# print(state_series)"
   ]
  },
  {
   "cell_type": "code",
   "execution_count": null,
   "metadata": {},
   "outputs": [],
   "source": [
    "state_df = state_series.to_frame()"
   ]
  },
  {
   "cell_type": "code",
   "execution_count": null,
   "metadata": {},
   "outputs": [],
   "source": [
    "state_df.head()"
   ]
  },
  {
   "cell_type": "code",
   "execution_count": null,
   "metadata": {},
   "outputs": [],
   "source": [
    "state_df.reset_index(inplace=True)"
   ]
  },
  {
   "cell_type": "code",
   "execution_count": null,
   "metadata": {},
   "outputs": [],
   "source": [
    "state_df.head()"
   ]
  },
  {
   "cell_type": "code",
   "execution_count": null,
   "metadata": {},
   "outputs": [],
   "source": [
    "state_df.rename(columns={\"index\":\"state\",0:\"statecode\"}, inplace=True)"
   ]
  },
  {
   "cell_type": "code",
   "execution_count": null,
   "metadata": {},
   "outputs": [],
   "source": [
    "state1_df = pd.merge(state_df,state_pop1_df, on=\"state\" )"
   ]
  },
  {
   "cell_type": "code",
   "execution_count": null,
   "metadata": {},
   "outputs": [],
   "source": [
    "#County Estimated Population 2015 to 2018\n",
    "county_pop1_df.head()"
   ]
  },
  {
   "cell_type": "code",
   "execution_count": null,
   "metadata": {},
   "outputs": [],
   "source": [
    "#STATE TABLE\n",
    "state1_df.head()"
   ]
  },
  {
   "cell_type": "markdown",
   "metadata": {},
   "source": [
    "# Kamran edit population"
   ]
  },
  {
   "cell_type": "code",
   "execution_count": null,
   "metadata": {},
   "outputs": [],
   "source": [
    "county_pop1_df.rename(columns = {\"2015\":\"2015 Population\", \n",
    "                                \"2016\":\"2016 Population\",\n",
    "                                \"2017\":\"2017 Population\",\n",
    "                                \"2018\":\"2018 Population\"}, inplace=True)\n",
    "county_pop1_df.head(300)"
   ]
  },
  {
   "cell_type": "code",
   "execution_count": null,
   "metadata": {},
   "outputs": [],
   "source": [
    "clean_pop_df = county_pop1_df.copy()\n",
    "clean_pop_df.head()"
   ]
  },
  {
   "cell_type": "code",
   "execution_count": null,
   "metadata": {},
   "outputs": [],
   "source": [
    "# Cleaned county column\n",
    "clean_pop_df['county'] = clean_pop_df['county'].str.split(\",\", expand=True)[0]\n",
    "clean_pop_df['county'] = clean_pop_df['county'].str.replace('County', '')\n",
    "clean_pop_df.head()"
   ]
  },
  {
   "cell_type": "code",
   "execution_count": null,
   "metadata": {},
   "outputs": [],
   "source": [
    "clean_pop_df.head(50)"
   ]
  },
  {
   "cell_type": "code",
   "execution_count": null,
   "metadata": {},
   "outputs": [],
   "source": [
    "# clean_pop_df = clean_pop_df.drop(columns={\"state\"})\n",
    "clean_pop_df = clean_pop_df.rename(columns={\"county\": \"County\",\n",
    "                                           \"state\": \"State\"})\n",
    "clean_pop_df.head()"
   ]
  },
  {
   "cell_type": "markdown",
   "metadata": {},
   "source": [
    "## Extract,Clean,Transform DL data "
   ]
  },
  {
   "cell_type": "code",
   "execution_count": null,
   "metadata": {},
   "outputs": [],
   "source": [
    "#Extract Licensed Drivers by state (DL) csv into pandas DF for year 2014,2015,2016\n",
    "DL_DF = pd.read_csv(\"Resources/DL.csv\", usecols=[0,66,67,68])\n",
    "DL_DF"
   ]
  },
  {
   "cell_type": "code",
   "execution_count": null,
   "metadata": {},
   "outputs": [],
   "source": [
    "# clean Licensed Drivers by state (DL)\n",
    "DL_DF_Clean = DL_DF.rename(columns={'2014':'num_licenced_driver_2014',\n",
    "                                   '2015':'num_licenced_driver_2015',\n",
    "                                   '2016':'num_licenced_driver_2016',\n",
    "                                    'STATE':'state_name'})\n",
    "DL_DF_Clean                       "
   ]
  },
  {
   "cell_type": "markdown",
   "metadata": {},
   "source": [
    "## Extract,Clean,Transform RMV data "
   ]
  },
  {
   "cell_type": "code",
   "execution_count": null,
   "metadata": {},
   "outputs": [],
   "source": [
    "#Extract Registered Motor Vehicles(RMV) csv into pandas DF\n",
    "RMV_DF = pd.read_csv(\"Resources/RMV.csv\", usecols=[0,15], skiprows=4)\n",
    "RMV_DF"
   ]
  },
  {
   "cell_type": "code",
   "execution_count": null,
   "metadata": {},
   "outputs": [],
   "source": [
    "# clean egistered Motor Veicheles(RMV)\n",
    "RMV_DF_Clean = RMV_DF.rename(columns={'Unnamed: 0':'state_name','Unnamed: 15':'num_reg_vehicle'})\n",
    "RMV_DF_Clean"
   ]
  },
  {
   "cell_type": "code",
   "execution_count": null,
   "metadata": {},
   "outputs": [],
   "source": [
    "RMV_DF_Clean.head()"
   ]
  },
  {
   "cell_type": "code",
   "execution_count": null,
   "metadata": {},
   "outputs": [],
   "source": [
    "RMV_DF_Clean.to_csv(\"Resources/reg_vehicle.csv\", index=False)"
   ]
  },
  {
   "cell_type": "code",
   "execution_count": null,
   "metadata": {},
   "outputs": [],
   "source": [
    "DL_DF_Clean.head()"
   ]
  },
  {
   "cell_type": "code",
   "execution_count": null,
   "metadata": {},
   "outputs": [],
   "source": [
    "DL_DF_Clean.to_csv(\"Resources/license.csv\", index=False)"
   ]
  },
  {
   "cell_type": "code",
   "execution_count": null,
   "metadata": {
    "scrolled": true
   },
   "outputs": [],
   "source": [
    "clean_pop_df.head()"
   ]
  },
  {
   "cell_type": "code",
   "execution_count": null,
   "metadata": {},
   "outputs": [],
   "source": [
    "clean_pop_df_rename = clean_pop_df.copy()\n",
    "clean_pop_df_rename = clean_pop_df_rename.rename(columns= {\"2015 Population\": \"population_2015\",\n",
    "                                   \"2016 Population\": \"population_2016\",\n",
    "                                   \"2017 Population\": \"population_2017\",\n",
    "                                   \"2018 Population\": \"population_2018\",\n",
    "                                   \"County\": \"county\"})\n",
    "# clean_pop_df_rename = clean_pop_df_rename.drop(columns= {\"State\", \"state_id\", \"county_id\"}, inplace=True)"
   ]
  },
  {
   "cell_type": "code",
   "execution_count": null,
   "metadata": {},
   "outputs": [],
   "source": [
    "clean_pop_df_rename.head()"
   ]
  },
  {
   "cell_type": "code",
   "execution_count": null,
   "metadata": {},
   "outputs": [],
   "source": [
    "clean_pop_df_rename = clean_pop_df_rename.sort_values(by='State')"
   ]
  },
  {
   "cell_type": "code",
   "execution_count": null,
   "metadata": {},
   "outputs": [],
   "source": [
    "clean_pop_df_rename.head()"
   ]
  },
  {
   "cell_type": "code",
   "execution_count": null,
   "metadata": {},
   "outputs": [],
   "source": [
    "clean_pop_df_rename.drop(columns= [\"State\", \"state_id\", \"county_id\"], inplace=True)"
   ]
  },
  {
   "cell_type": "code",
   "execution_count": null,
   "metadata": {},
   "outputs": [],
   "source": [
    "clean_pop_df_rename.head()"
   ]
  },
  {
   "cell_type": "code",
   "execution_count": null,
   "metadata": {},
   "outputs": [],
   "source": [
    "clean_pop_df_rename= clean_pop_df_rename[[\"county\", \"population_2015\", \"population_2016\",\"population_2017\", \"population_2018\"]]\n",
    "clean_pop_df_rename.head()"
   ]
  },
  {
   "cell_type": "code",
   "execution_count": null,
   "metadata": {},
   "outputs": [],
   "source": [
    "clean_pop_df_rename.nunique()"
   ]
  },
  {
   "cell_type": "code",
   "execution_count": null,
   "metadata": {},
   "outputs": [],
   "source": [
    "clean_pop_df_rename = clean_pop_df_rename.sort_values"
   ]
  },
  {
   "cell_type": "code",
   "execution_count": null,
   "metadata": {},
   "outputs": [],
   "source": [
    "clean_pop_df_rename.loc[clean_pop_df_rename['county']=='Clark']"
   ]
  },
  {
   "cell_type": "code",
   "execution_count": null,
   "metadata": {},
   "outputs": [],
   "source": [
    "clean_pop_df_rename.to_csv(\"Resources/population.csv\", index=False)"
   ]
  },
  {
   "cell_type": "code",
   "execution_count": null,
   "metadata": {},
   "outputs": [],
   "source": [
    "clean_accident_data_df.head()"
   ]
  },
  {
   "cell_type": "code",
   "execution_count": null,
   "metadata": {},
   "outputs": [],
   "source": [
    "clean_accident_data_df_rename = clean_accident_data_df.copy()\n",
    "clean_accident_data_df_rename = clean_accident_data_df_rename.rename(columns= {\"ID\": \"id\",\n",
    "                                                                              \"Date_Time\": \"datetime\",\n",
    "                                                                              \"City\": \"city\",\n",
    "                                                                              \"County\": \"county\",\n",
    "                                                                              \"State\": \"state_name\",\n",
    "                                                                              \"Zipcode\": \"zipcode\",\n",
    "                                                                              \"Timezone\": \"timezone\",\n",
    "                                                                              \"Temperature(F)\": \"temperature\",\n",
    "                                                                               \"Visibility(mi)\": \"visibility\",\n",
    "                                                                               \"Weather_Condition\": \"weather_condition\"})\n",
    "# drop street and state abbrev\n"
   ]
  },
  {
   "cell_type": "code",
   "execution_count": null,
   "metadata": {},
   "outputs": [],
   "source": [
    "clean_accident_data_df_rename.drop(columns= [\"state_abbrev\", \"Street\"], inplace=True)"
   ]
  },
  {
   "cell_type": "code",
   "execution_count": null,
   "metadata": {},
   "outputs": [],
   "source": [
    "clean_accident_data_df_rename.head()"
   ]
  },
  {
   "cell_type": "code",
   "execution_count": null,
   "metadata": {},
   "outputs": [],
   "source": [
    "# population_id_df = clean_pop_df_rename.copy()\n",
    "# population_id_df = population_id_df[['id', 'county']]\n",
    "# population_id_df.head()"
   ]
  },
  {
   "cell_type": "code",
   "execution_count": null,
   "metadata": {},
   "outputs": [],
   "source": [
    "# population_id_df.nunique()"
   ]
  },
  {
   "cell_type": "code",
   "execution_count": null,
   "metadata": {},
   "outputs": [],
   "source": [
    "# population_id_df.count()"
   ]
  },
  {
   "cell_type": "code",
   "execution_count": null,
   "metadata": {},
   "outputs": [],
   "source": [
    "# population_id_df = population_id_df.rename(columns={'id': \"population_id\"})\n",
    "# population_id_df.head()"
   ]
  },
  {
   "cell_type": "code",
   "execution_count": null,
   "metadata": {},
   "outputs": [],
   "source": [
    "# clean_accident_data_df_rename = pd.merge(clean_accident_data_df_rename, population_id_df, on= \"county\", how='left')\n",
    "# clean_accident_data_df_rename.head()"
   ]
  },
  {
   "cell_type": "code",
   "execution_count": null,
   "metadata": {},
   "outputs": [],
   "source": [
    "clean_accident_data_df_rename = clean_accident_data_df_rename.sort_values(by='datetime')\n",
    "clean_accident_data_df_rename.head()"
   ]
  },
  {
   "cell_type": "code",
   "execution_count": null,
   "metadata": {},
   "outputs": [],
   "source": [
    "clean_accident_data_df_rename = clean_accident_data_df_rename[['id', 'datetime', 'state_name', 'city', 'county', 'zipcode', 'timezone', 'temperature', 'visibility', 'weather_condition']]\n",
    "clean_accident_data_df_rename.head()"
   ]
  },
  {
   "cell_type": "code",
   "execution_count": null,
   "metadata": {},
   "outputs": [],
   "source": [
    "clean_accident_data_df_rename.nunique()"
   ]
  },
  {
   "cell_type": "code",
   "execution_count": null,
   "metadata": {},
   "outputs": [],
   "source": [
    "clean_accident_data_df_rename.to_csv(\"Resources/accident.csv\", index=False)"
   ]
  },
  {
   "cell_type": "code",
   "execution_count": null,
   "metadata": {},
   "outputs": [],
   "source": [
    "clean_accident_data_df_rename.tail()"
   ]
  },
  {
   "cell_type": "code",
   "execution_count": null,
   "metadata": {},
   "outputs": [],
   "source": []
  }
 ],
 "metadata": {
  "kernelspec": {
   "display_name": "Python [conda env:PythonData] *",
   "language": "python",
   "name": "conda-env-PythonData-py"
  },
  "language_info": {
   "codemirror_mode": {
    "name": "ipython",
    "version": 3
   },
   "file_extension": ".py",
   "mimetype": "text/x-python",
   "name": "python",
   "nbconvert_exporter": "python",
   "pygments_lexer": "ipython3",
   "version": "3.8.3"
  }
 },
 "nbformat": 4,
 "nbformat_minor": 4
}
